{
 "cells": [
  {
   "cell_type": "markdown",
   "metadata": {
    "id": "ElUixYyZDPdS"
   },
   "source": [
    "## **MUSIC RECOMMENDATION USING SONG LYRICS**"
   ]
  },
  {
   "cell_type": "markdown",
   "metadata": {
    "id": "gxeHGUcVDQ4I"
   },
   "source": [
    "# **INTRODUCTION**\n",
    "\n",
    "In the harmonious tapestry of life, music emerges as a universal language, capable of expressing emotions, telling stories, and painting vivid pictures with its melodies and lyrics. We've all experienced moments where the right song at the right time has the power to heal wounds, spark joy, or offer solace. Yet, the vast musical landscape often conceals the treasures of good music, making it a challenge to discover the perfect tune that resonates with our hearts.\n",
    "\n",
    "Recognizing the profound impact that music has on our lives, I embark on a journey to create an enchanting project. This project is dedicated to the art of music recommendation, but with a twist that sets it apart from the ordinary. Rather than solely relying on genre, tempo, or artist, our project takes a more lyrical approach. We aim to delve into the very essence of songs, exploring their rich tapestries of words and sentiments.\n",
    "\n",
    "I aim to assist in discovering the perfect musical companion for any moment by recommending songs based on the topics and themes found in their lyrics. The lyrics of a song are the poetic expressions of the artist's heart and mind, and within them, we often find reflections of our own experiences, emotions, and desires. This project seeks to connect music lovers with songs that speak to the unique stories of their lives, songs that provide solace in difficult times and amplify your joy during moments of celebration.\n",
    "\n",
    "With the charm of song lyrics as my guide, I aspire to create a recommendation system that doesn't just understand musical preferences but also comprehends the lyrical narratives that resonate with the soul. Through this innovative approach, I aim to assist you in finding the perfect soundtrack to your life's unfolding story.\n",
    "\n",
    "Join me on this captivating journey as I explore the enchanting world of song lyrics to recommend music that not only suits your tastes but also speaks to your heart. Together, we will uncover the hidden gems that complement the various chapters of your life and add an extra layer of magic to your musical experience."
   ]
  },
  {
   "cell_type": "markdown",
   "metadata": {
    "id": "7FwJYmkGJMO6"
   },
   "source": [
    "## **OBJECTIVE**\n",
    "\n",
    "To develop a music recommendation system that intimately connects listeners with songs through the power of lyrics."
   ]
  },
  {
   "cell_type": "markdown",
   "metadata": {
    "id": "NCHUxNyEM4Wy"
   },
   "source": [
    "## **INSTALL DEPENDENCIES**"
   ]
  },
  {
   "cell_type": "code",
   "execution_count": 1,
   "metadata": {
    "colab": {
     "base_uri": "https://localhost:8080/"
    },
    "executionInfo": {
     "elapsed": 24361,
     "status": "ok",
     "timestamp": 1698077583713,
     "user": {
      "displayName": "Yassine Elhallaoui",
      "userId": "14268864816048715613"
     },
     "user_tz": -120
    },
    "id": "tKCbqI9WRTBp",
    "outputId": "be3e23e1-7d31-40ec-c00e-2073f6d6df33"
   },
   "outputs": [
    {
     "name": "stdout",
     "output_type": "stream",
     "text": [
      "Requirement already satisfied: pandarallel in ./env/lib/python3.8/site-packages (1.6.5)\n",
      "Requirement already satisfied: dill>=0.3.1 in ./env/lib/python3.8/site-packages (from pandarallel) (0.3.7)\n",
      "Requirement already satisfied: pandas>=1 in ./env/lib/python3.8/site-packages (from pandarallel) (2.0.3)\n",
      "Requirement already satisfied: psutil in ./env/lib/python3.8/site-packages (from pandarallel) (5.9.5)\n",
      "Requirement already satisfied: python-dateutil>=2.8.2 in ./env/lib/python3.8/site-packages (from pandas>=1->pandarallel) (2.8.2)\n",
      "Requirement already satisfied: pytz>=2020.1 in ./env/lib/python3.8/site-packages (from pandas>=1->pandarallel) (2023.3)\n",
      "Requirement already satisfied: tzdata>=2022.1 in ./env/lib/python3.8/site-packages (from pandas>=1->pandarallel) (2023.3)\n",
      "Requirement already satisfied: numpy>=1.20.3 in ./env/lib/python3.8/site-packages (from pandas>=1->pandarallel) (1.23.2)\n",
      "Requirement already satisfied: six>=1.5 in ./env/lib/python3.8/site-packages (from python-dateutil>=2.8.2->pandas>=1->pandarallel) (1.16.0)\n",
      "Note: you may need to restart the kernel to use updated packages.\n"
     ]
    }
   ],
   "source": [
    "#Install necessary packages if needed\n",
    "%pip install pandarallel"
   ]
  },
  {
   "cell_type": "markdown",
   "metadata": {
    "id": "bBCPBBY3NK4w"
   },
   "source": [
    "## **DATA**\n",
    "\n",
    "The dataset used was from https://www.kaggle.com/datasets/edenbd/150k-lyrics-labeled-with-spotify-valence. The dataset downloaded contains 158,353 songs.\n",
    "\n",
    "The data consists of the following columns:\n",
    "- artist: Contains artist names\n",
    "- seq: song lyrics\n",
    "- song: song's title\n",
    "- label: Spotify valence feature attribute for this song."
   ]
  },
  {
   "cell_type": "code",
   "execution_count": 2,
   "metadata": {
    "scrolled": true
   },
   "outputs": [
    {
     "name": "stdout",
     "output_type": "stream",
     "text": [
      "Requirement already satisfied: nltk in ./env/lib/python3.8/site-packages (3.8.1)\n",
      "Requirement already satisfied: click in ./env/lib/python3.8/site-packages (from nltk) (8.1.7)\n",
      "Requirement already satisfied: joblib in ./env/lib/python3.8/site-packages (from nltk) (1.3.2)\n",
      "Requirement already satisfied: regex>=2021.8.3 in ./env/lib/python3.8/site-packages (from nltk) (2023.10.3)\n",
      "Requirement already satisfied: tqdm in ./env/lib/python3.8/site-packages (from nltk) (4.66.1)\n",
      "Note: you may need to restart the kernel to use updated packages.\n"
     ]
    }
   ],
   "source": [
    "%pip install nltk"
   ]
  },
  {
   "cell_type": "code",
   "execution_count": 3,
   "metadata": {},
   "outputs": [
    {
     "name": "stdout",
     "output_type": "stream",
     "text": [
      "Requirement already satisfied: spotipy in ./env/lib/python3.8/site-packages (2.23.0)\n",
      "Requirement already satisfied: redis>=3.5.3 in ./env/lib/python3.8/site-packages (from spotipy) (5.0.0)\n",
      "Requirement already satisfied: requests>=2.25.0 in ./env/lib/python3.8/site-packages (from spotipy) (2.31.0)\n",
      "Requirement already satisfied: six>=1.15.0 in ./env/lib/python3.8/site-packages (from spotipy) (1.16.0)\n",
      "Requirement already satisfied: urllib3>=1.26.0 in ./env/lib/python3.8/site-packages (from spotipy) (1.26.16)\n",
      "Requirement already satisfied: async-timeout>=4.0.2 in ./env/lib/python3.8/site-packages (from redis>=3.5.3->spotipy) (4.0.3)\n",
      "Requirement already satisfied: charset-normalizer<4,>=2 in ./env/lib/python3.8/site-packages (from requests>=2.25.0->spotipy) (3.2.0)\n",
      "Requirement already satisfied: idna<4,>=2.5 in ./env/lib/python3.8/site-packages (from requests>=2.25.0->spotipy) (3.4)\n",
      "Requirement already satisfied: certifi>=2017.4.17 in ./env/lib/python3.8/site-packages (from requests>=2.25.0->spotipy) (2023.7.22)\n",
      "Note: you may need to restart the kernel to use updated packages.\n"
     ]
    }
   ],
   "source": [
    "%pip install spotipy"
   ]
  },
  {
   "cell_type": "code",
   "execution_count": 4,
   "metadata": {},
   "outputs": [
    {
     "name": "stdout",
     "output_type": "stream",
     "text": [
      "Requirement already satisfied: tqdm in ./env/lib/python3.8/site-packages (4.66.1)\n",
      "Note: you may need to restart the kernel to use updated packages.\n"
     ]
    }
   ],
   "source": [
    "%pip install tqdm"
   ]
  },
  {
   "cell_type": "code",
   "execution_count": 5,
   "metadata": {},
   "outputs": [
    {
     "name": "stdout",
     "output_type": "stream",
     "text": [
      "Requirement already satisfied: seaborn in ./env/lib/python3.8/site-packages (0.13.0)\n",
      "Requirement already satisfied: numpy!=1.24.0,>=1.20 in ./env/lib/python3.8/site-packages (from seaborn) (1.23.2)\n",
      "Requirement already satisfied: pandas>=1.2 in ./env/lib/python3.8/site-packages (from seaborn) (2.0.3)\n",
      "Requirement already satisfied: matplotlib!=3.6.1,>=3.3 in ./env/lib/python3.8/site-packages (from seaborn) (3.7.2)\n",
      "Requirement already satisfied: contourpy>=1.0.1 in ./env/lib/python3.8/site-packages (from matplotlib!=3.6.1,>=3.3->seaborn) (1.1.0)\n",
      "Requirement already satisfied: cycler>=0.10 in ./env/lib/python3.8/site-packages (from matplotlib!=3.6.1,>=3.3->seaborn) (0.11.0)\n",
      "Requirement already satisfied: fonttools>=4.22.0 in ./env/lib/python3.8/site-packages (from matplotlib!=3.6.1,>=3.3->seaborn) (4.42.1)\n",
      "Requirement already satisfied: kiwisolver>=1.0.1 in ./env/lib/python3.8/site-packages (from matplotlib!=3.6.1,>=3.3->seaborn) (1.4.5)\n",
      "Requirement already satisfied: packaging>=20.0 in ./env/lib/python3.8/site-packages (from matplotlib!=3.6.1,>=3.3->seaborn) (23.1)\n",
      "Requirement already satisfied: pillow>=6.2.0 in ./env/lib/python3.8/site-packages (from matplotlib!=3.6.1,>=3.3->seaborn) (10.0.0)\n",
      "Requirement already satisfied: pyparsing<3.1,>=2.3.1 in ./env/lib/python3.8/site-packages (from matplotlib!=3.6.1,>=3.3->seaborn) (3.0.9)\n",
      "Requirement already satisfied: python-dateutil>=2.7 in ./env/lib/python3.8/site-packages (from matplotlib!=3.6.1,>=3.3->seaborn) (2.8.2)\n",
      "Requirement already satisfied: importlib-resources>=3.2.0 in ./env/lib/python3.8/site-packages (from matplotlib!=3.6.1,>=3.3->seaborn) (6.0.1)\n",
      "Requirement already satisfied: pytz>=2020.1 in ./env/lib/python3.8/site-packages (from pandas>=1.2->seaborn) (2023.3)\n",
      "Requirement already satisfied: tzdata>=2022.1 in ./env/lib/python3.8/site-packages (from pandas>=1.2->seaborn) (2023.3)\n",
      "Requirement already satisfied: zipp>=3.1.0 in ./env/lib/python3.8/site-packages (from importlib-resources>=3.2.0->matplotlib!=3.6.1,>=3.3->seaborn) (3.16.2)\n",
      "Requirement already satisfied: six>=1.5 in ./env/lib/python3.8/site-packages (from python-dateutil>=2.7->matplotlib!=3.6.1,>=3.3->seaborn) (1.16.0)\n",
      "Note: you may need to restart the kernel to use updated packages.\n"
     ]
    }
   ],
   "source": [
    "%pip install seaborn"
   ]
  },
  {
   "cell_type": "code",
   "execution_count": 6,
   "metadata": {
    "colab": {
     "base_uri": "https://localhost:8080/"
    },
    "executionInfo": {
     "elapsed": 2171,
     "status": "ok",
     "timestamp": 1698077607087,
     "user": {
      "displayName": "Yassine Elhallaoui",
      "userId": "14268864816048715613"
     },
     "user_tz": -120
    },
    "id": "qQK1Cynpx98j",
    "outputId": "086cef5e-b85c-420c-cf38-57b39fba92d2"
   },
   "outputs": [
    {
     "name": "stderr",
     "output_type": "stream",
     "text": [
      "[nltk_data] Downloading package punkt to\n",
      "[nltk_data]     /Users/chukwuemekaugwu/nltk_data...\n",
      "[nltk_data]   Package punkt is already up-to-date!\n",
      "[nltk_data] Downloading package stopwords to\n",
      "[nltk_data]     /Users/chukwuemekaugwu/nltk_data...\n",
      "[nltk_data]   Package stopwords is already up-to-date!\n",
      "[nltk_data] Downloading package wordnet to\n",
      "[nltk_data]     /Users/chukwuemekaugwu/nltk_data...\n",
      "[nltk_data]   Package wordnet is already up-to-date!\n",
      "[nltk_data] Downloading package averaged_perceptron_tagger to\n",
      "[nltk_data]     /Users/chukwuemekaugwu/nltk_data...\n",
      "[nltk_data]   Package averaged_perceptron_tagger is already up-to-\n",
      "[nltk_data]       date!\n"
     ]
    },
    {
     "name": "stdout",
     "output_type": "stream",
     "text": [
      "INFO: Pandarallel will run on 8 workers.\n",
      "INFO: Pandarallel will use standard multiprocessing data transfer (pipe) to transfer data between the main process and workers.\n",
      "8\n"
     ]
    }
   ],
   "source": [
    "# import libraries for text cleaning and preprocessing\n",
    "import re\n",
    "import nltk\n",
    "from nltk.corpus import stopwords\n",
    "from nltk.tokenize import word_tokenize\n",
    "from nltk.stem import WordNetLemmatizer\n",
    "\n",
    "# Download NLTK resources\n",
    "nltk.download('punkt')\n",
    "nltk.download('stopwords')\n",
    "nltk.download('wordnet')\n",
    "nltk.download('averaged_perceptron_tagger')\n",
    "\n",
    "# track progress of data processing tasks,\n",
    "from tqdm.notebook import tqdm\n",
    "tqdm.pandas()\n",
    "\n",
    "from pandarallel import pandarallel #enable parallel processing of Pandas DataFrames using parallel computing\n",
    "import multiprocessing\n",
    "cores = multiprocessing.cpu_count()\n",
    "pandarallel.initialize(progress_bar=True, nb_workers=int(cores))\n",
    "print(cores)\n",
    "\n",
    "from nltk.tag import pos_tag\n",
    "from sklearn.feature_extraction.text import CountVectorizer, TfidfTransformer, TfidfVectorizer #for text feature extraction\n",
    "from sklearn.decomposition import NMF\n",
    "\n",
    "import numpy as np #for numerical computing\n",
    "import seaborn as sns #data visualization\n",
    "import matplotlib.pyplot as plt\n",
    "import pandas as pd\n",
    "\n",
    "import pickle"
   ]
  },
  {
   "cell_type": "code",
   "execution_count": 7,
   "metadata": {
    "id": "q8SmyVxIz77x"
   },
   "outputs": [],
   "source": [
    "#Read the CSV file into a DataFrame\n",
    "file_path1 = '~/Kaggle/Music Datasets 2/labeled_lyrics_cleaned.csv'\n",
    "df = pd.read_csv(file_path1)"
   ]
  },
  {
   "cell_type": "markdown",
   "metadata": {
    "id": "otoatRPisgWT"
   },
   "source": [
    "## **DATA EXPLORATION**\n",
    "\n",
    "Our data is stored in a dataframe named \"df\". The head and info commands were used to display the first few rows of the dataframe and provide a concise summary of the dataframe respectively. The info command includes the data types of each column, the number of non-null values, and how much memory your DataFrame is using. It's very useful for quickly assessing the integrity of the data, understanding what kind of data is stored in each column, and identifying missing values."
   ]
  },
  {
   "cell_type": "code",
   "execution_count": 8,
   "metadata": {
    "id": "3ka_r4gUxg_S"
   },
   "outputs": [
    {
     "data": {
      "text/html": [
       "<div>\n",
       "<style scoped>\n",
       "    .dataframe tbody tr th:only-of-type {\n",
       "        vertical-align: middle;\n",
       "    }\n",
       "\n",
       "    .dataframe tbody tr th {\n",
       "        vertical-align: top;\n",
       "    }\n",
       "\n",
       "    .dataframe thead th {\n",
       "        text-align: right;\n",
       "    }\n",
       "</style>\n",
       "<table border=\"1\" class=\"dataframe\">\n",
       "  <thead>\n",
       "    <tr style=\"text-align: right;\">\n",
       "      <th></th>\n",
       "      <th>Unnamed: 0</th>\n",
       "      <th>artist</th>\n",
       "      <th>seq</th>\n",
       "      <th>song</th>\n",
       "      <th>label</th>\n",
       "    </tr>\n",
       "  </thead>\n",
       "  <tbody>\n",
       "    <tr>\n",
       "      <th>0</th>\n",
       "      <td>0</td>\n",
       "      <td>Elijah Blake</td>\n",
       "      <td>No, no\\r\\nI ain't ever trapped out the bando\\r...</td>\n",
       "      <td>Everyday</td>\n",
       "      <td>0.626</td>\n",
       "    </tr>\n",
       "    <tr>\n",
       "      <th>1</th>\n",
       "      <td>1</td>\n",
       "      <td>Elijah Blake</td>\n",
       "      <td>The drinks go down and smoke goes up, I feel m...</td>\n",
       "      <td>Live Till We Die</td>\n",
       "      <td>0.630</td>\n",
       "    </tr>\n",
       "    <tr>\n",
       "      <th>2</th>\n",
       "      <td>2</td>\n",
       "      <td>Elijah Blake</td>\n",
       "      <td>She don't live on planet Earth no more\\r\\nShe ...</td>\n",
       "      <td>The Otherside</td>\n",
       "      <td>0.240</td>\n",
       "    </tr>\n",
       "    <tr>\n",
       "      <th>3</th>\n",
       "      <td>3</td>\n",
       "      <td>Elijah Blake</td>\n",
       "      <td>Trippin' off that Grigio, mobbin', lights low\\...</td>\n",
       "      <td>Pinot</td>\n",
       "      <td>0.536</td>\n",
       "    </tr>\n",
       "    <tr>\n",
       "      <th>4</th>\n",
       "      <td>4</td>\n",
       "      <td>Elijah Blake</td>\n",
       "      <td>I see a midnight panther, so gallant and so br...</td>\n",
       "      <td>Shadows &amp; Diamonds</td>\n",
       "      <td>0.371</td>\n",
       "    </tr>\n",
       "  </tbody>\n",
       "</table>\n",
       "</div>"
      ],
      "text/plain": [
       "   Unnamed: 0        artist  \\\n",
       "0           0  Elijah Blake   \n",
       "1           1  Elijah Blake   \n",
       "2           2  Elijah Blake   \n",
       "3           3  Elijah Blake   \n",
       "4           4  Elijah Blake   \n",
       "\n",
       "                                                 seq                song  \\\n",
       "0  No, no\\r\\nI ain't ever trapped out the bando\\r...            Everyday   \n",
       "1  The drinks go down and smoke goes up, I feel m...    Live Till We Die   \n",
       "2  She don't live on planet Earth no more\\r\\nShe ...       The Otherside   \n",
       "3  Trippin' off that Grigio, mobbin', lights low\\...               Pinot   \n",
       "4  I see a midnight panther, so gallant and so br...  Shadows & Diamonds   \n",
       "\n",
       "   label  \n",
       "0  0.626  \n",
       "1  0.630  \n",
       "2  0.240  \n",
       "3  0.536  \n",
       "4  0.371  "
      ]
     },
     "execution_count": 8,
     "metadata": {},
     "output_type": "execute_result"
    }
   ],
   "source": [
    "#View the top rows of the dataframe\n",
    "df.head()"
   ]
  },
  {
   "cell_type": "code",
   "execution_count": 9,
   "metadata": {
    "colab": {
     "base_uri": "https://localhost:8080/"
    },
    "executionInfo": {
     "elapsed": 15,
     "status": "ok",
     "timestamp": 1697385670803,
     "user": {
      "displayName": "Ugwu Chukwuemeka",
      "userId": "16925398294240703700"
     },
     "user_tz": -60
    },
    "id": "uN_3W8Ytx91F",
    "outputId": "c42df1b1-f6f2-4887-88c2-dd3a6dfa914b"
   },
   "outputs": [
    {
     "name": "stdout",
     "output_type": "stream",
     "text": [
      "<class 'pandas.core.frame.DataFrame'>\n",
      "RangeIndex: 158353 entries, 0 to 158352\n",
      "Data columns (total 5 columns):\n",
      " #   Column      Non-Null Count   Dtype  \n",
      "---  ------      --------------   -----  \n",
      " 0   Unnamed: 0  158353 non-null  int64  \n",
      " 1   artist      158353 non-null  object \n",
      " 2   seq         158353 non-null  object \n",
      " 3   song        158351 non-null  object \n",
      " 4   label       158353 non-null  float64\n",
      "dtypes: float64(1), int64(1), object(3)\n",
      "memory usage: 6.0+ MB\n"
     ]
    }
   ],
   "source": [
    "#show a summary of the DataFrame\n",
    "df.info()"
   ]
  },
  {
   "cell_type": "code",
   "execution_count": 10,
   "metadata": {
    "colab": {
     "base_uri": "https://localhost:8080/",
     "height": 143
    },
    "executionInfo": {
     "elapsed": 543,
     "status": "ok",
     "timestamp": 1697385671332,
     "user": {
      "displayName": "Ugwu Chukwuemeka",
      "userId": "16925398294240703700"
     },
     "user_tz": -60
    },
    "id": "3aaJM1wRx946",
    "outputId": "d10de667-1de3-4efe-bc16-173b376eba73"
   },
   "outputs": [
    {
     "data": {
      "text/plain": [
       "'She don\\'t live on planet Earth no more\\r\\nShe found love on Venus, that\\'s her word\\r\\nSaid she needed space, time to explore\\r\\nNow she movin\\' on and on and on and on\\r\\n\\r\\nIs it might fault that you\\'re broken, is it my fault that your\\'e high?\\r\\nYou caught me cheating with my ex-girlfriend, but instead of calling me I caught her\\r\\n\\r\\nI was like \"man, oh shit, my new girl fuckin\\' with my old chick\"\\r\\nWe both bad, so she switched, packed her bags, said she had to take a trip\\r\\nTo the otherside, the otherside, the otherside\\r\\nShe\\'s gone, she\\'s gone, she\\'s gone, to the otherside\\r\\n\\r\\nCan we get back to how it was before?\\r\\nIf I can\\'t have you, at least show me what\\'s in store\\r\\nAnd what I\\'ve made is [?] come forward more\\r\\nThen we can go on and on and on and on\\r\\n\\r\\nIs it might fault that you\\'re broken, is it my fault that your high?\\r\\nYou caught me cheating with my ex-girlfriend, but instead of calling me, you called her\\r\\n\\r\\nI was like \"man, oh shit, my new girl fuckin\\' with my old chick\"\\r\\nWe broke bad, so she switched, packed her bags, said she had to take a trip\\r\\nTo the otherside, the otherside, the otherside\\r\\nShe\\'s gone, she\\'s gone, she\\'s gone, to the otherside\\r\\n\\r\\nShe\\'s gone to the otherside\\r\\nShe\\'s gone to the otherside\\r\\nShe\\'s gone to the otherside\\r\\nShe\\'s gone to the otherside\\r\\nShe\\'s gone to the otherside\\r\\nShe\\'s gone to the otherside\\r\\nShe\\'s gone to the otherside\\r\\nShe\\'s gone to the otherside\\r\\nShe\\'s gone to the otherside\\r\\nShe\\'s gone to the otherside\\r\\nShe\\'s gone to the otherside'"
      ]
     },
     "execution_count": 10,
     "metadata": {},
     "output_type": "execute_result"
    }
   ],
   "source": [
    "# Access the dataframe\n",
    "df.seq[2]"
   ]
  },
  {
   "cell_type": "markdown",
   "metadata": {
    "id": "J1r4FcB0a4QP"
   },
   "source": [
    "## **TEXT CLEANING**\n",
    "\n",
    "The codes in the following cells cleans the lyrics in the coloumn \"seq\". An example is shown in the code above and it shows how dirty our lyrics in the seq column is. Functions are defined to clean the texts and remove the stop words from the seq column."
   ]
  },
  {
   "cell_type": "code",
   "execution_count": 11,
   "metadata": {
    "id": "p9ZWMnK3DVLy"
   },
   "outputs": [],
   "source": [
    "# define function to clean the text and remove all the unnecessary elements.\n",
    "def clean_corpus(sentence):\n",
    "    sentence = sentence.lower() # text to lowercase\n",
    "    if sentence.isdigit():\n",
    "        sentence = 'Code_' + sentence\n",
    "    if len(sentence) <=1:\n",
    "        sentence = 'empty'\n",
    "\n",
    "    sentence = re.sub(r'https?://\\S+|www\\.\\S+','', sentence) # remove all internet links\n",
    "    sentence = re.sub(r'\\s\\{\\$\\S*', '',sentence) # Remove text within curly braces\n",
    "    sentence = re.sub(r'/\\(.*\\)/', '',sentence) # Remove text within\n",
    "    sentence = re.sub(r\"[@#$*&]\", '',sentence) # Remove special character\n",
    "    sentence = re.sub(r'\\n', '', sentence) # Remove line breaks\n",
    "    sentence = re.sub(r'\\(\\w*\\)', '', sentence) #remove text within braces\n",
    "    sentence = re.sub(r'(\\W\\s)|(\\W$)|(\\W\\d*)', ' ',sentence) # Remove punctuation\n",
    "    sentence = re.sub(r'x+((/xx)*/\\d*\\s*)|x*', '',sentence) #Remove date\n",
    "    sentence = re.sub(r'\\d+\\s', '', sentence) #Remove other numerical values\n",
    "    sentence = re.sub(r'\\d*', '', sentence) #Remove other numerical values\n",
    "    sentence = re.sub(r' +', ' ',sentence) #Remove unnecessary white spaces\n",
    "    return sentence"
   ]
  },
  {
   "cell_type": "code",
   "execution_count": 12,
   "metadata": {
    "id": "lwXDzd3dDc2X"
   },
   "outputs": [],
   "source": [
    "# define function to remove stopwords from lyrics\n",
    "def remove_stop_words(document):\n",
    "    # change sentence to lower case\n",
    "#     document = document.lower()\n",
    "    # tokenize into words\n",
    "    words = word_tokenize(document)\n",
    "    # remove stop words\n",
    "    words = [word for word in words if word not in stopwords.words(\"english\")]\n",
    "    # join words to make sentence\n",
    "    document = \" \".join(words)\n",
    "    return document"
   ]
  },
  {
   "cell_type": "code",
   "execution_count": 13,
   "metadata": {
    "id": "E5KsGxrqDrUK"
   },
   "outputs": [
    {
     "data": {
      "text/html": [
       "<div>\n",
       "<style scoped>\n",
       "    .dataframe tbody tr th:only-of-type {\n",
       "        vertical-align: middle;\n",
       "    }\n",
       "\n",
       "    .dataframe tbody tr th {\n",
       "        vertical-align: top;\n",
       "    }\n",
       "\n",
       "    .dataframe thead th {\n",
       "        text-align: right;\n",
       "    }\n",
       "</style>\n",
       "<table border=\"1\" class=\"dataframe\">\n",
       "  <thead>\n",
       "    <tr style=\"text-align: right;\">\n",
       "      <th></th>\n",
       "      <th>Unnamed: 0</th>\n",
       "      <th>artist</th>\n",
       "      <th>seq</th>\n",
       "      <th>song</th>\n",
       "      <th>label</th>\n",
       "    </tr>\n",
       "  </thead>\n",
       "  <tbody>\n",
       "    <tr>\n",
       "      <th>0</th>\n",
       "      <td>0</td>\n",
       "      <td>Elijah Blake</td>\n",
       "      <td>No, no\\r\\nI ain't ever trapped out the bando\\r...</td>\n",
       "      <td>Everyday</td>\n",
       "      <td>0.626</td>\n",
       "    </tr>\n",
       "    <tr>\n",
       "      <th>1</th>\n",
       "      <td>1</td>\n",
       "      <td>Elijah Blake</td>\n",
       "      <td>The drinks go down and smoke goes up, I feel m...</td>\n",
       "      <td>Live Till We Die</td>\n",
       "      <td>0.630</td>\n",
       "    </tr>\n",
       "    <tr>\n",
       "      <th>2</th>\n",
       "      <td>2</td>\n",
       "      <td>Elijah Blake</td>\n",
       "      <td>She don't live on planet Earth no more\\r\\nShe ...</td>\n",
       "      <td>The Otherside</td>\n",
       "      <td>0.240</td>\n",
       "    </tr>\n",
       "    <tr>\n",
       "      <th>3</th>\n",
       "      <td>3</td>\n",
       "      <td>Elijah Blake</td>\n",
       "      <td>Trippin' off that Grigio, mobbin', lights low\\...</td>\n",
       "      <td>Pinot</td>\n",
       "      <td>0.536</td>\n",
       "    </tr>\n",
       "    <tr>\n",
       "      <th>4</th>\n",
       "      <td>4</td>\n",
       "      <td>Elijah Blake</td>\n",
       "      <td>I see a midnight panther, so gallant and so br...</td>\n",
       "      <td>Shadows &amp; Diamonds</td>\n",
       "      <td>0.371</td>\n",
       "    </tr>\n",
       "  </tbody>\n",
       "</table>\n",
       "</div>"
      ],
      "text/plain": [
       "   Unnamed: 0        artist  \\\n",
       "0           0  Elijah Blake   \n",
       "1           1  Elijah Blake   \n",
       "2           2  Elijah Blake   \n",
       "3           3  Elijah Blake   \n",
       "4           4  Elijah Blake   \n",
       "\n",
       "                                                 seq                song  \\\n",
       "0  No, no\\r\\nI ain't ever trapped out the bando\\r...            Everyday   \n",
       "1  The drinks go down and smoke goes up, I feel m...    Live Till We Die   \n",
       "2  She don't live on planet Earth no more\\r\\nShe ...       The Otherside   \n",
       "3  Trippin' off that Grigio, mobbin', lights low\\...               Pinot   \n",
       "4  I see a midnight panther, so gallant and so br...  Shadows & Diamonds   \n",
       "\n",
       "   label  \n",
       "0  0.626  \n",
       "1  0.630  \n",
       "2  0.240  \n",
       "3  0.536  \n",
       "4  0.371  "
      ]
     },
     "execution_count": 13,
     "metadata": {},
     "output_type": "execute_result"
    }
   ],
   "source": [
    "df.head()"
   ]
  },
  {
   "cell_type": "code",
   "execution_count": 14,
   "metadata": {
    "colab": {
     "base_uri": "https://localhost:8080/",
     "height": 206
    },
    "executionInfo": {
     "elapsed": 329,
     "status": "ok",
     "timestamp": 1696781629010,
     "user": {
      "displayName": "Ugwu Chukwuemeka",
      "userId": "16925398294240703700"
     },
     "user_tz": -60
    },
    "id": "WO5tFXVeD4ln",
    "outputId": "f452aa64-939f-433e-8c2d-622daa2978d6"
   },
   "outputs": [
    {
     "data": {
      "text/html": [
       "<div>\n",
       "<style scoped>\n",
       "    .dataframe tbody tr th:only-of-type {\n",
       "        vertical-align: middle;\n",
       "    }\n",
       "\n",
       "    .dataframe tbody tr th {\n",
       "        vertical-align: top;\n",
       "    }\n",
       "\n",
       "    .dataframe thead th {\n",
       "        text-align: right;\n",
       "    }\n",
       "</style>\n",
       "<table border=\"1\" class=\"dataframe\">\n",
       "  <thead>\n",
       "    <tr style=\"text-align: right;\">\n",
       "      <th></th>\n",
       "      <th>artist</th>\n",
       "      <th>seq</th>\n",
       "    </tr>\n",
       "  </thead>\n",
       "  <tbody>\n",
       "    <tr>\n",
       "      <th>0</th>\n",
       "      <td>Elijah Blake</td>\n",
       "      <td>No, no\\r\\nI ain't ever trapped out the bando\\r...</td>\n",
       "    </tr>\n",
       "    <tr>\n",
       "      <th>1</th>\n",
       "      <td>Elijah Blake</td>\n",
       "      <td>The drinks go down and smoke goes up, I feel m...</td>\n",
       "    </tr>\n",
       "    <tr>\n",
       "      <th>2</th>\n",
       "      <td>Elijah Blake</td>\n",
       "      <td>She don't live on planet Earth no more\\r\\nShe ...</td>\n",
       "    </tr>\n",
       "    <tr>\n",
       "      <th>3</th>\n",
       "      <td>Elijah Blake</td>\n",
       "      <td>Trippin' off that Grigio, mobbin', lights low\\...</td>\n",
       "    </tr>\n",
       "    <tr>\n",
       "      <th>4</th>\n",
       "      <td>Elijah Blake</td>\n",
       "      <td>I see a midnight panther, so gallant and so br...</td>\n",
       "    </tr>\n",
       "  </tbody>\n",
       "</table>\n",
       "</div>"
      ],
      "text/plain": [
       "         artist                                                seq\n",
       "0  Elijah Blake  No, no\\r\\nI ain't ever trapped out the bando\\r...\n",
       "1  Elijah Blake  The drinks go down and smoke goes up, I feel m...\n",
       "2  Elijah Blake  She don't live on planet Earth no more\\r\\nShe ...\n",
       "3  Elijah Blake  Trippin' off that Grigio, mobbin', lights low\\...\n",
       "4  Elijah Blake  I see a midnight panther, so gallant and so br..."
      ]
     },
     "execution_count": 14,
     "metadata": {},
     "output_type": "execute_result"
    }
   ],
   "source": [
    "df_cleaned = df[['artist', 'seq']].copy()\n",
    "df_cleaned.head()"
   ]
  },
  {
   "cell_type": "code",
   "execution_count": 15,
   "metadata": {
    "colab": {
     "base_uri": "https://localhost:8080/",
     "height": 49,
     "referenced_widgets": [
      "53ae24e559fe49c7adefc0604bd6b40c",
      "0f73442597b441b7ab90c22141d0ef71",
      "10e5a090f5e7441fb0e73a29807f2573",
      "686b0c2d7a094424a1f796d738d40cbc",
      "929dba9375e74673a5e3f792ff4f4a8d",
      "3100ccdfbfc54de8af31cc685fedcb42",
      "38ce39344468431aa384c27bbd39faaa",
      "d230977a9e5e4211bf566aecd6a4153a",
      "2af17282604f4d26bbb4c3dbe43a6c6a",
      "7255428a283a45ea9da8acf6341730b4",
      "6302fa94acb54d65ba6c8b1514be1d62"
     ]
    },
    "executionInfo": {
     "elapsed": 195053,
     "status": "ok",
     "timestamp": 1696782083887,
     "user": {
      "displayName": "Ugwu Chukwuemeka",
      "userId": "16925398294240703700"
     },
     "user_tz": -60
    },
    "id": "dNQiycOyEKsR",
    "outputId": "2dcd9e3c-44c1-495e-879d-311f8398e072"
   },
   "outputs": [],
   "source": [
    "#apply clean_corpus to the dataframe\n",
    "# df_cleaned['seq_cleaned_1'] = df['seq'].progress_apply(clean_corpus)"
   ]
  },
  {
   "cell_type": "code",
   "execution_count": 16,
   "metadata": {
    "colab": {
     "base_uri": "https://localhost:8080/",
     "height": 270,
     "referenced_widgets": [
      "58ebdc9a71234ac7a4788c75049c0367",
      "0d45d4e84b314a0eaf7ee84ad3e74929",
      "dcfa6ddeeb8845d49ee353cb75c2dd26",
      "1a13500c5f1a41979df1212dd590a277",
      "1b4d88ed7d8945fd906f57d8e36f765c",
      "8fd0880d9ae34ecbb97ad011f1602bd1",
      "1a0cbd9fa0414d079d49fe333fcbc9ba",
      "0ca214fce2c24f8cbcf68ed976ee5257",
      "54513fd2e1f9498a8ca0610979bd01f5",
      "9a9865842ced486b9d427ac495976d37",
      "0e7b886ca4a9479c95ffbd525f182ddc",
      "8e83774266484e4c8381053800adbf2a",
      "760be20caea0445a8e099d56b0b575f4",
      "0bb658850199411d8408d56ae4c091b2",
      "0e5fa90035044af4af37148fa70c9699",
      "818a6f4275c340c3b2d3ecb7c401c720",
      "f9589ca258e44920bc5793f4b05c83d8",
      "1061d00b83594df58b25ac6d61b513aa"
     ]
    },
    "executionInfo": {
     "elapsed": 459866,
     "status": "ok",
     "timestamp": 1696786419929,
     "user": {
      "displayName": "Ugwu Chukwuemeka",
      "userId": "16925398294240703700"
     },
     "user_tz": -60
    },
    "id": "RL8ZgyX2FTPr",
    "outputId": "fd7a5144-b447-4e3f-f701-04a61d6f8a7d"
   },
   "outputs": [],
   "source": [
    "#apply function to remove stop_words to the dataframe\n",
    "# df_cleaned['seq_cleaned_2'] = df_cleaned['seq_cleaned_1'].parallel_apply(remove_stop_words)\n",
    "# df_cleaned.head()"
   ]
  },
  {
   "cell_type": "code",
   "execution_count": 17,
   "metadata": {
    "id": "zNAJ655rHtVH"
   },
   "outputs": [],
   "source": [
    "# save the pre-processed dataset\n",
    "# df_cleaned.to_csv('/content/drive/MyDrive/Recommendation Engine/Pre-processed dataset/cleaned_lyrics.csv', index = False)"
   ]
  },
  {
   "cell_type": "code",
   "execution_count": 18,
   "metadata": {
    "id": "FbrDKWiFNuNv"
   },
   "outputs": [],
   "source": [
    "df_cleaned = pd.read_csv('~/Kaggle/Pre-processed dataset/cleaned_lyrics.csv')"
   ]
  },
  {
   "cell_type": "code",
   "execution_count": 15,
   "metadata": {
    "id": "yTpc3NuAFm-E"
   },
   "outputs": [],
   "source": [
    "#function to extract the POS tags to eliminate Verbs, Numbers, ADJ\n",
    "def get_clean_pos_tags_2(sentence):\n",
    "    sent_tokens = word_tokenize(sentence)\n",
    "    pos_tags_ = pos_tag(sent_tokens)\n",
    "    sent_ = sentence.split(' ')\n",
    "\n",
    "    try:\n",
    "        if len(sent_)>1:\n",
    "            sel_nouns = [sent for sent,pos in pos_tags_ if (pos == 'NN' or pos == 'NNP' or pos == 'NNS' or pos == 'NNPS')]\n",
    "            nn_words_sent = \" \".join(sel_nouns)\n",
    "        else:\n",
    "            nn_words_sent = sent_[0]\n",
    "    except:\n",
    "        nn_words_sent = sentence\n",
    "        return nn_words_sent\n",
    "    return nn_words_sent"
   ]
  },
  {
   "cell_type": "code",
   "execution_count": 20,
   "metadata": {
    "colab": {
     "base_uri": "https://localhost:8080/",
     "height": 357,
     "referenced_widgets": [
      "31658c2633ba4c83b3eb64f1ac7c4d26",
      "35ed77619f4c4054ae70d79c4598d2ce",
      "0ff1144db0a94130ad5fb4cb088b8872",
      "9f6c419aeb804ac082ded95f5dbb0bec",
      "1be7a425287a4ce6b819a046fed9fb4a",
      "10d0907983b147a4bd45f938292d04e8",
      "bbd09de1ccbf49728eacd61bbcfdbf98",
      "43bdcfa0a2d84d20bd515e25ad0e112a",
      "0b56bf9416b74187828f4f3d54c125dd",
      "03d963b83fde47758d6a45677ec3da16",
      "2f3854e38f7e49909853cbec659425c0",
      "617b180bcea948259a56d23560bb67d8",
      "319707bec48448b3bf1aa96a16edc18b",
      "0cf962fef4764d80a57bfe7e61fe0649",
      "89e802aa1bae4ca5b47fc6bacffdcf7e",
      "1b59197055824086b735d92be7f30683",
      "d03150e8c34e43589c883b6b36ce153d",
      "4fa458b0fadc4cbb9ca481da1fbd7bf2"
     ]
    },
    "executionInfo": {
     "elapsed": 1156309,
     "status": "ok",
     "timestamp": 1696788686962,
     "user": {
      "displayName": "Ugwu Chukwuemeka",
      "userId": "16925398294240703700"
     },
     "user_tz": -60
    },
    "id": "HCO3Dt92ItZM",
    "outputId": "c708967b-3caa-4c79-aaed-52f11af8d520"
   },
   "outputs": [],
   "source": [
    "# df_cleaned['seq_cleaned_3'] = df_cleaned['seq_cleaned_2'].parallel_apply(get_clean_pos_tags_2)\n",
    "# df_cleaned.head()"
   ]
  },
  {
   "cell_type": "code",
   "execution_count": 21,
   "metadata": {
    "id": "zN70xvRUIptC"
   },
   "outputs": [],
   "source": [
    "# df_cleaned.to_csv('~/Kaggle/Pre-processed dataset/cleaned_lyrics_2.csv', index = False)"
   ]
  },
  {
   "cell_type": "code",
   "execution_count": 16,
   "metadata": {
    "colab": {
     "base_uri": "https://localhost:8080/",
     "height": 293
    },
    "executionInfo": {
     "elapsed": 17618,
     "status": "ok",
     "timestamp": 1697212720577,
     "user": {
      "displayName": "Ugwu Chukwuemeka",
      "userId": "16925398294240703700"
     },
     "user_tz": -60
    },
    "id": "-xUdAMobNTuv",
    "outputId": "de5a766d-050e-4612-fcb4-1eecfbf785d0"
   },
   "outputs": [
    {
     "data": {
      "text/html": [
       "<div>\n",
       "<style scoped>\n",
       "    .dataframe tbody tr th:only-of-type {\n",
       "        vertical-align: middle;\n",
       "    }\n",
       "\n",
       "    .dataframe tbody tr th {\n",
       "        vertical-align: top;\n",
       "    }\n",
       "\n",
       "    .dataframe thead th {\n",
       "        text-align: right;\n",
       "    }\n",
       "</style>\n",
       "<table border=\"1\" class=\"dataframe\">\n",
       "  <thead>\n",
       "    <tr style=\"text-align: right;\">\n",
       "      <th></th>\n",
       "      <th>artist</th>\n",
       "      <th>seq</th>\n",
       "      <th>seq_cleaned_1</th>\n",
       "      <th>seq_cleaned_2</th>\n",
       "      <th>seq_cleaned_3</th>\n",
       "    </tr>\n",
       "  </thead>\n",
       "  <tbody>\n",
       "    <tr>\n",
       "      <th>0</th>\n",
       "      <td>Elijah Blake</td>\n",
       "      <td>No, no\\r\\nI ain't ever trapped out the bando\\r...</td>\n",
       "      <td>no no i ain t ever trapped out the bando but o...</td>\n",
       "      <td>ever trapped bando oh lord get wrong know coup...</td>\n",
       "      <td>bando oh lord couple place everybody name atti...</td>\n",
       "    </tr>\n",
       "    <tr>\n",
       "      <th>1</th>\n",
       "      <td>Elijah Blake</td>\n",
       "      <td>The drinks go down and smoke goes up, I feel m...</td>\n",
       "      <td>the drinks go down and smoke goes up i feel my...</td>\n",
       "      <td>drinks go smoke goes feel got let go cares get...</td>\n",
       "      <td>drinks smoke cares crowd lights eyes live till...</td>\n",
       "    </tr>\n",
       "    <tr>\n",
       "      <th>2</th>\n",
       "      <td>Elijah Blake</td>\n",
       "      <td>She don't live on planet Earth no more\\r\\nShe ...</td>\n",
       "      <td>she don t live on planet earth no more she fou...</td>\n",
       "      <td>live planet earth found love venus word said n...</td>\n",
       "      <td>planet earth venus word space time movin fault...</td>\n",
       "    </tr>\n",
       "    <tr>\n",
       "      <th>3</th>\n",
       "      <td>Elijah Blake</td>\n",
       "      <td>Trippin' off that Grigio, mobbin', lights low\\...</td>\n",
       "      <td>trippin off that grigio mobbin lights low trip...</td>\n",
       "      <td>trippin grigio mobbin lights low trippin grigi...</td>\n",
       "      <td>trippin grigio lights trippin grigio lights tr...</td>\n",
       "    </tr>\n",
       "    <tr>\n",
       "      <th>4</th>\n",
       "      <td>Elijah Blake</td>\n",
       "      <td>I see a midnight panther, so gallant and so br...</td>\n",
       "      <td>i see a midnight panther so gallant and so bra...</td>\n",
       "      <td>see midnight panther gallant brave found found...</td>\n",
       "      <td>midnight panther gallant brave answers thunder...</td>\n",
       "    </tr>\n",
       "  </tbody>\n",
       "</table>\n",
       "</div>"
      ],
      "text/plain": [
       "         artist                                                seq  \\\n",
       "0  Elijah Blake  No, no\\r\\nI ain't ever trapped out the bando\\r...   \n",
       "1  Elijah Blake  The drinks go down and smoke goes up, I feel m...   \n",
       "2  Elijah Blake  She don't live on planet Earth no more\\r\\nShe ...   \n",
       "3  Elijah Blake  Trippin' off that Grigio, mobbin', lights low\\...   \n",
       "4  Elijah Blake  I see a midnight panther, so gallant and so br...   \n",
       "\n",
       "                                       seq_cleaned_1  \\\n",
       "0  no no i ain t ever trapped out the bando but o...   \n",
       "1  the drinks go down and smoke goes up i feel my...   \n",
       "2  she don t live on planet earth no more she fou...   \n",
       "3  trippin off that grigio mobbin lights low trip...   \n",
       "4  i see a midnight panther so gallant and so bra...   \n",
       "\n",
       "                                       seq_cleaned_2  \\\n",
       "0  ever trapped bando oh lord get wrong know coup...   \n",
       "1  drinks go smoke goes feel got let go cares get...   \n",
       "2  live planet earth found love venus word said n...   \n",
       "3  trippin grigio mobbin lights low trippin grigi...   \n",
       "4  see midnight panther gallant brave found found...   \n",
       "\n",
       "                                       seq_cleaned_3  \n",
       "0  bando oh lord couple place everybody name atti...  \n",
       "1  drinks smoke cares crowd lights eyes live till...  \n",
       "2  planet earth venus word space time movin fault...  \n",
       "3  trippin grigio lights trippin grigio lights tr...  \n",
       "4  midnight panther gallant brave answers thunder...  "
      ]
     },
     "execution_count": 16,
     "metadata": {},
     "output_type": "execute_result"
    }
   ],
   "source": [
    "df_cleaned = pd.read_csv('~/Kaggle/Pre-processed dataset/cleaned_lyrics_2.csv')\n",
    "df_cleaned.head()"
   ]
  },
  {
   "cell_type": "code",
   "execution_count": 17,
   "metadata": {
    "colab": {
     "base_uri": "https://localhost:8080/"
    },
    "executionInfo": {
     "elapsed": 950,
     "status": "ok",
     "timestamp": 1697213266363,
     "user": {
      "displayName": "Ugwu Chukwuemeka",
      "userId": "16925398294240703700"
     },
     "user_tz": -60
    },
    "id": "R3Lok7vMx52R",
    "outputId": "205bfa13-f276-4f6d-cc1d-343b0760ab61"
   },
   "outputs": [
    {
     "data": {
      "text/plain": [
       "artist             0\n",
       "seq                0\n",
       "seq_cleaned_1     78\n",
       "seq_cleaned_2     85\n",
       "seq_cleaned_3    119\n",
       "dtype: int64"
      ]
     },
     "execution_count": 17,
     "metadata": {},
     "output_type": "execute_result"
    }
   ],
   "source": [
    "#calculate the number of missing values in each column of the DataFrame\n",
    "df_cleaned.isna().sum()"
   ]
  },
  {
   "cell_type": "code",
   "execution_count": 18,
   "metadata": {
    "id": "gvMGWkyAyO6Q"
   },
   "outputs": [],
   "source": [
    "#calculate the number of missing values in seq_cleaned_3\n",
    "df_cleaned.dropna(inplace = True, subset = ['seq_cleaned_3'])"
   ]
  },
  {
   "cell_type": "markdown",
   "metadata": {
    "id": "unHhKWWWg3UA"
   },
   "source": [
    "After the the application of the text cleaning functions on the dataframe, we notice the presence of missing values not previously noticed in the original dataset. this can be attributed to our functions removing irrevalent texts from our dataset. We proceed by dropping all the rows with missing value from our dataframe."
   ]
  },
  {
   "cell_type": "code",
   "execution_count": 19,
   "metadata": {
    "colab": {
     "base_uri": "https://localhost:8080/"
    },
    "executionInfo": {
     "elapsed": 615,
     "status": "ok",
     "timestamp": 1697213384111,
     "user": {
      "displayName": "Ugwu Chukwuemeka",
      "userId": "16925398294240703700"
     },
     "user_tz": -60
    },
    "id": "gXQFnSSoyixH",
    "outputId": "6c565643-f1bf-4684-c94b-00027afe1e6d"
   },
   "outputs": [
    {
     "data": {
      "text/plain": [
       "artist           0\n",
       "seq              0\n",
       "seq_cleaned_1    0\n",
       "seq_cleaned_2    0\n",
       "seq_cleaned_3    0\n",
       "dtype: int64"
      ]
     },
     "execution_count": 19,
     "metadata": {},
     "output_type": "execute_result"
    }
   ],
   "source": [
    "##calculate the number of missing values in each column of the DataFrame\n",
    "df_cleaned.isna().sum()"
   ]
  },
  {
   "cell_type": "markdown",
   "metadata": {
    "id": "V8kMfKcggIgr"
   },
   "source": [
    "## **TOPIC MODELLING**\n",
    "\n",
    "Topic modeling is a technique in natural language processing and text mining that is used to identify topics or themes within a collection of documents. It's a way to automatically discover abstract topics from a large dataset of text, enabling researchers and analysts to understand the main ideas or subjects discussed in the documents without having to read through them individually.\n",
    "\n",
    "Below is how topic modeling works in a nutshell:\n",
    "\n",
    "- Document Collection: Start with a large collection of text documents, such as articles, research papers, or social media posts.\n",
    "\n",
    "- Vectorization: Convert the text into numerical form using techniques like TF-IDF (Term Frequency-Inverse Document Frequency) or word embeddings. This step transforms words into numerical vectors that can be processed by machine learning algorithms.\n",
    "\n",
    "- Algorithm Application: Apply a topic modeling algorithm, such as Latent Dirichlet Allocation (LDA) or Non-Negative Matrix Factorization (NMF), to the numerical representations of the documents. These algorithms analyze patterns in word co-occurrence to identify topics. I used NMF in my solution.\n",
    "\n",
    "- Topic Identification: The algorithm identifies groups of words that frequently occur together in the documents. Each group of words represents a topic. Importantly, the algorithm does this without any prior knowledge of the topics or the documents.\n",
    "\n",
    "- Interpretation: After the algorithm has identified topics, analysts interpret these topics based on the words that are most strongly associated with each topic. They can then label the topics based on these interpretations."
   ]
  },
  {
   "cell_type": "code",
   "execution_count": 20,
   "metadata": {
    "colab": {
     "base_uri": "https://localhost:8080/"
    },
    "executionInfo": {
     "elapsed": 6383,
     "status": "ok",
     "timestamp": 1697214544159,
     "user": {
      "displayName": "Ugwu Chukwuemeka",
      "userId": "16925398294240703700"
     },
     "user_tz": -60
    },
    "id": "HSbnywZTJOcm",
    "outputId": "f7bb3bf8-1799-41fd-e2ae-ef06812fb408"
   },
   "outputs": [
    {
     "name": "stdout",
     "output_type": "stream",
     "text": [
      "CPU times: user 2.99 s, sys: 76.9 ms, total: 3.07 s\n",
      "Wall time: 3.21 s\n"
     ]
    }
   ],
   "source": [
    "%%time\n",
    "## Topic Modeling\n",
    "vect = TfidfVectorizer(min_df=1024, stop_words='english')\n",
    "\n",
    "# Fit and transform\n",
    "X = vect.fit_transform(df_cleaned['seq_cleaned_3'])\n",
    "\n"
   ]
  },
  {
   "cell_type": "code",
   "execution_count": 22,
   "metadata": {
    "colab": {
     "base_uri": "https://localhost:8080/"
    },
    "executionInfo": {
     "elapsed": 11,
     "status": "ok",
     "timestamp": 1697214544159,
     "user": {
      "displayName": "Ugwu Chukwuemeka",
      "userId": "16925398294240703700"
     },
     "user_tz": -60
    },
    "id": "VR2TgBquJOjl",
    "outputId": "a5b6db74-ef9e-4440-f5ba-b02eb4d29ee8"
   },
   "outputs": [
    {
     "name": "stdout",
     "output_type": "stream",
     "text": [
      "Done...\n",
      "CPU times: user 41.4 ms, sys: 23.5 ms, total: 65 ms\n",
      "Wall time: 78.3 ms\n"
     ]
    }
   ],
   "source": [
    "%%time\n",
    "pickle.dump(vect, open(f\"Transformers_Models/tfidf_lyrics_recommendation_mindf1024.pickle\", \"wb\"))\n",
    "print('Done...')"
   ]
  },
  {
   "cell_type": "code",
   "execution_count": null,
   "metadata": {
    "colab": {
     "base_uri": "https://localhost:8080/"
    },
    "executionInfo": {
     "elapsed": 1744847,
     "status": "ok",
     "timestamp": 1697216295641,
     "user": {
      "displayName": "Ugwu Chukwuemeka",
      "userId": "16925398294240703700"
     },
     "user_tz": -60
    },
    "id": "vsdWVUzPNRx8",
    "outputId": "4178d567-35ce-4ca8-d136-164ac8ca09e2"
   },
   "outputs": [],
   "source": [
    "%%time\n",
    "# Create an NMF instance: model\n",
    "# the 200 components will be the topics\n",
    "\n",
    "model = NMF(n_components=200, random_state=87)\n",
    "\n",
    "# Fit the model to TF-IDF\n",
    "model.fit(X)\n",
    "\n",
    "# Transform the TF-IDF: nmf_features\n",
    "nmf_features = model.transform(X)"
   ]
  },
  {
   "cell_type": "code",
   "execution_count": null,
   "metadata": {
    "colab": {
     "base_uri": "https://localhost:8080/"
    },
    "executionInfo": {
     "elapsed": 22,
     "status": "ok",
     "timestamp": 1697216295641,
     "user": {
      "displayName": "Ugwu Chukwuemeka",
      "userId": "16925398294240703700"
     },
     "user_tz": -60
    },
    "id": "ffqrF4INJOnP",
    "outputId": "148a6f9c-382d-4603-bf0c-8af2f9e4b9c9"
   },
   "outputs": [],
   "source": [
    "%%time\n",
    "pickle.dump(model, open(f\"~/Kaggle/Transformers_Models/model_1_mindf1024_comp200.pickle\", \"wb\"))\n",
    "print('Done...')"
   ]
  },
  {
   "cell_type": "code",
   "execution_count": null,
   "metadata": {
    "colab": {
     "base_uri": "https://localhost:8080/"
    },
    "executionInfo": {
     "elapsed": 11,
     "status": "ok",
     "timestamp": 1697216295641,
     "user": {
      "displayName": "Ugwu Chukwuemeka",
      "userId": "16925398294240703700"
     },
     "user_tz": -60
    },
    "id": "1H7OdNFO0Qf2",
    "outputId": "7dfb4d7a-a828-4629-89c8-12fb8818e62f"
   },
   "outputs": [],
   "source": [
    "#TF-IDF matrix\n",
    "print(X.shape)\n",
    "\n",
    "#Features matrix\n",
    "print(nmf_features.shape)"
   ]
  },
  {
   "cell_type": "code",
   "execution_count": null,
   "metadata": {
    "colab": {
     "base_uri": "https://localhost:8080/",
     "height": 442
    },
    "executionInfo": {
     "elapsed": 8,
     "status": "ok",
     "timestamp": 1697216295641,
     "user": {
      "displayName": "Ugwu Chukwuemeka",
      "userId": "16925398294240703700"
     },
     "user_tz": -60
    },
    "id": "ZgVbit4e1OHc",
    "outputId": "aded30f4-6d59-42d6-aa13-a6f8372a0cac"
   },
   "outputs": [],
   "source": [
    "# Create a DataFrame: components_df\n",
    "components_df = pd.DataFrame(model.components_, columns=vect.get_feature_names_out())\n",
    "display(components_df)\n",
    "print(components_df.shape)"
   ]
  },
  {
   "cell_type": "code",
   "execution_count": null,
   "metadata": {
    "colab": {
     "base_uri": "https://localhost:8080/"
    },
    "executionInfo": {
     "elapsed": 892,
     "status": "ok",
     "timestamp": 1697216296526,
     "user": {
      "displayName": "Ugwu Chukwuemeka",
      "userId": "16925398294240703700"
     },
     "user_tz": -60
    },
    "id": "D6hZ7fwIJOqY",
    "outputId": "713f05bd-bc03-454d-fe2b-583409e4f6d8"
   },
   "outputs": [],
   "source": [
    "for topic in range(components_df.shape[0]):\n",
    "    tmp = components_df.iloc[topic]\n",
    "    print(f'For topic {topic+1} the words with the highest value are:')\n",
    "    print(tmp.nlargest(10))\n",
    "    print('\\n')"
   ]
  },
  {
   "cell_type": "code",
   "execution_count": null,
   "metadata": {
    "colab": {
     "base_uri": "https://localhost:8080/"
    },
    "executionInfo": {
     "elapsed": 540,
     "status": "ok",
     "timestamp": 1697216345015,
     "user": {
      "displayName": "Ugwu Chukwuemeka",
      "userId": "16925398294240703700"
     },
     "user_tz": -60
    },
    "id": "UicIj_2406ph",
    "outputId": "896b7dcf-3b67-445d-b218-8576b67e4a87"
   },
   "outputs": [],
   "source": [
    "prob = \"top songs about peace and love\"\n",
    "# Transform the TF-IDF\n",
    "X_test = vect.transform([prob])\n",
    "# Transform the TF-IDF: nmf_features\n",
    "nmf_features_test = model.transform(X_test)\n",
    "pd.DataFrame(nmf_features_test).idxmax(axis=1)"
   ]
  },
  {
   "cell_type": "code",
   "execution_count": null,
   "metadata": {
    "colab": {
     "base_uri": "https://localhost:8080/"
    },
    "executionInfo": {
     "elapsed": 624,
     "status": "ok",
     "timestamp": 1697216719090,
     "user": {
      "displayName": "Ugwu Chukwuemeka",
      "userId": "16925398294240703700"
     },
     "user_tz": -60
    },
    "id": "KtAC9jWN2Lln",
    "outputId": "0d6fecc1-ea66-4722-a6da-46c654269925"
   },
   "outputs": [],
   "source": [
    "print(\"sentence : \",  prob)\n",
    "tmp_test = components_df.iloc[pd.DataFrame(nmf_features_test).idxmax(axis=1)[0]]\n",
    "print(f'For topic {pd.DataFrame(nmf_features_test).idxmax(axis=1)[0]+1} the words with the highest value are:')\n",
    "print(' '.join(tmp_test.nlargest(20)[:20].index))\n",
    "print(tmp_test.nlargest(20)[:20].index)"
   ]
  },
  {
   "cell_type": "code",
   "execution_count": null,
   "metadata": {
    "id": "zQio0GaY_H5S"
   },
   "outputs": [],
   "source": [
    "def topic_extraction(sentence):\n",
    "  # Transform the TF-IDF\n",
    "  X_test = vect.transform([sentence])\n",
    "  # Transform the TF-IDF: nmf_features\n",
    "  nmf_features_test = model.transform(X_test)\n",
    "  tmp_test = components_df.iloc[pd.DataFrame(nmf_features_test).idxmax(axis=1)[0]]\n",
    "  return ' '.join(tmp_test.nlargest(20)[:20].index)\n"
   ]
  },
  {
   "cell_type": "code",
   "execution_count": null,
   "metadata": {
    "colab": {
     "base_uri": "https://localhost:8080/",
     "height": 357,
     "referenced_widgets": [
      "ae73ecb1d8ca4335b8e102a53ae91126",
      "b45ea659930f429b83be9cda140fefec",
      "3e19ce8596a44f3489dc1d571a427f87",
      "286ab442f36c4f25a4d8678ee37b3511",
      "1efaa136692041d88f0419f0ff79d439",
      "70b42b1389ab4f1b804517ef9a68d077",
      "995eb26444ed4a4a81846459cb29fe23",
      "c9959998f6be4355b5b53f79504e34dc",
      "750061c335b04af386fe29df8e135868",
      "99da35f2ee754eb58084c30cd47bf5da",
      "b030b754222345bc94e5cc599e0945ba",
      "11efe6208c09499fb4df4597afe6a6fb",
      "37818da6e08f498690b949d850d60940",
      "b1ce103b69e948b0a21c06245727d630",
      "078c3b1a3f764f759a521f52f3ba97ea",
      "7d53c822d3b749c486cfe45a5c3da274",
      "5c92e29d9e0e4d078e8a182f2308c699",
      "e36608b19360488ca0e5d352293aaeb4"
     ]
    },
    "executionInfo": {
     "elapsed": 1851450,
     "status": "ok",
     "timestamp": 1697221254724,
     "user": {
      "displayName": "Ugwu Chukwuemeka",
      "userId": "16925398294240703700"
     },
     "user_tz": -60
    },
    "id": "qO2BvEHN-o5M",
    "outputId": "a7c70759-f220-4d93-d08e-6a4d4b12e618"
   },
   "outputs": [],
   "source": [
    "df_cleaned['topics'] = df_cleaned['seq_cleaned_3'].parallel_apply(topic_extraction)\n",
    "df_cleaned.head()"
   ]
  },
  {
   "cell_type": "code",
   "execution_count": null,
   "metadata": {
    "id": "S0_wonzDAyhg"
   },
   "outputs": [],
   "source": [
    "# df_cleaned.to_csv('~/Kaggle/Pre-processed dataset/cleaned_lyrics_topics.csv', index = False)"
   ]
  },
  {
   "cell_type": "code",
   "execution_count": null,
   "metadata": {
    "colab": {
     "base_uri": "https://localhost:8080/",
     "height": 597
    },
    "executionInfo": {
     "elapsed": 10536,
     "status": "ok",
     "timestamp": 1697991495088,
     "user": {
      "displayName": "Ugwu Chukwuemeka",
      "userId": "16925398294240703700"
     },
     "user_tz": -60
    },
    "id": "4NBfgxnMA-hd",
    "outputId": "ee4dc3db-b141-42f9-ce0c-ea6bc607a490"
   },
   "outputs": [],
   "source": [
    "df_cleaned = pd.read_csv('~/Kaggle/Pre-processed dataset/cleaned_lyrics_topics.csv')\n",
    "df_cleaned.head(70)"
   ]
  },
  {
   "cell_type": "code",
   "execution_count": null,
   "metadata": {
    "colab": {
     "base_uri": "https://localhost:8080/",
     "height": 206
    },
    "executionInfo": {
     "elapsed": 25,
     "status": "ok",
     "timestamp": 1697991497012,
     "user": {
      "displayName": "Ugwu Chukwuemeka",
      "userId": "16925398294240703700"
     },
     "user_tz": -60
    },
    "id": "lbyZ-o-5FHFH",
    "outputId": "7415fc8e-d5ec-499c-d641-c3b01ab20de8"
   },
   "outputs": [],
   "source": [
    "columns = ['artist','seq','seq_cleaned_3','topics']\n",
    "final_df = df_cleaned[columns].copy()\n",
    "final_df.head()"
   ]
  },
  {
   "cell_type": "markdown",
   "metadata": {
    "id": "QWidSJvb8fyc"
   },
   "source": [
    "# Inference"
   ]
  },
  {
   "cell_type": "code",
   "execution_count": 24,
   "metadata": {
    "colab": {
     "base_uri": "https://localhost:8080/",
     "height": 293
    },
    "executionInfo": {
     "elapsed": 5300,
     "status": "ok",
     "timestamp": 1698065575651,
     "user": {
      "displayName": "Yassine Elhallaoui",
      "userId": "14268864816048715613"
     },
     "user_tz": 0
    },
    "id": "PgBiCRjQLph0",
    "outputId": "634c62f8-7d4e-4636-fa44-10e69e5ed847"
   },
   "outputs": [
    {
     "data": {
      "text/html": [
       "<div>\n",
       "<style scoped>\n",
       "    .dataframe tbody tr th:only-of-type {\n",
       "        vertical-align: middle;\n",
       "    }\n",
       "\n",
       "    .dataframe tbody tr th {\n",
       "        vertical-align: top;\n",
       "    }\n",
       "\n",
       "    .dataframe thead th {\n",
       "        text-align: right;\n",
       "    }\n",
       "</style>\n",
       "<table border=\"1\" class=\"dataframe\">\n",
       "  <thead>\n",
       "    <tr style=\"text-align: right;\">\n",
       "      <th></th>\n",
       "      <th>artist</th>\n",
       "      <th>seq</th>\n",
       "      <th>seq_cleaned_1</th>\n",
       "      <th>seq_cleaned_2</th>\n",
       "      <th>seq_cleaned_3</th>\n",
       "      <th>topics</th>\n",
       "      <th>song</th>\n",
       "    </tr>\n",
       "  </thead>\n",
       "  <tbody>\n",
       "    <tr>\n",
       "      <th>0</th>\n",
       "      <td>Elijah Blake</td>\n",
       "      <td>No, no\\r\\nI ain't ever trapped out the bando\\r...</td>\n",
       "      <td>no no i ain t ever trapped out the bando but o...</td>\n",
       "      <td>ever trapped bando oh lord get wrong know coup...</td>\n",
       "      <td>bando oh lord couple place everybody name atti...</td>\n",
       "      <td>money pay dollar cash pocket car paper clothes...</td>\n",
       "      <td>Everyday</td>\n",
       "    </tr>\n",
       "    <tr>\n",
       "      <th>1</th>\n",
       "      <td>Elijah Blake</td>\n",
       "      <td>The drinks go down and smoke goes up, I feel m...</td>\n",
       "      <td>the drinks go down and smoke goes up i feel my...</td>\n",
       "      <td>drinks go smoke goes feel got let go cares get...</td>\n",
       "      <td>drinks smoke cares crowd lights eyes live till...</td>\n",
       "      <td>till skies sleep babe desire plan tune kiss te...</td>\n",
       "      <td>Live Till We Die</td>\n",
       "    </tr>\n",
       "    <tr>\n",
       "      <th>2</th>\n",
       "      <td>Elijah Blake</td>\n",
       "      <td>She don't live on planet Earth no more\\r\\nShe ...</td>\n",
       "      <td>she don t live on planet earth no more she fou...</td>\n",
       "      <td>live planet earth found love venus word said n...</td>\n",
       "      <td>planet earth venus word space time movin fault...</td>\n",
       "      <td>man understand wife plan women band truck dog ...</td>\n",
       "      <td>The Otherside</td>\n",
       "    </tr>\n",
       "    <tr>\n",
       "      <th>3</th>\n",
       "      <td>Elijah Blake</td>\n",
       "      <td>Trippin' off that Grigio, mobbin', lights low\\...</td>\n",
       "      <td>trippin off that grigio mobbin lights low trip...</td>\n",
       "      <td>trippin grigio mobbin lights low trippin grigi...</td>\n",
       "      <td>trippin grigio lights trippin grigio lights tr...</td>\n",
       "      <td>baby lovin babe diamond treat mon feelin crazy...</td>\n",
       "      <td>Pinot</td>\n",
       "    </tr>\n",
       "    <tr>\n",
       "      <th>4</th>\n",
       "      <td>Elijah Blake</td>\n",
       "      <td>I see a midnight panther, so gallant and so br...</td>\n",
       "      <td>i see a midnight panther so gallant and so bra...</td>\n",
       "      <td>see midnight panther gallant brave found found...</td>\n",
       "      <td>midnight panther gallant brave answers thunder...</td>\n",
       "      <td>love speak brings kisses tender lover angel gl...</td>\n",
       "      <td>Shadows &amp; Diamonds</td>\n",
       "    </tr>\n",
       "  </tbody>\n",
       "</table>\n",
       "</div>"
      ],
      "text/plain": [
       "         artist                                                seq  \\\n",
       "0  Elijah Blake  No, no\\r\\nI ain't ever trapped out the bando\\r...   \n",
       "1  Elijah Blake  The drinks go down and smoke goes up, I feel m...   \n",
       "2  Elijah Blake  She don't live on planet Earth no more\\r\\nShe ...   \n",
       "3  Elijah Blake  Trippin' off that Grigio, mobbin', lights low\\...   \n",
       "4  Elijah Blake  I see a midnight panther, so gallant and so br...   \n",
       "\n",
       "                                       seq_cleaned_1  \\\n",
       "0  no no i ain t ever trapped out the bando but o...   \n",
       "1  the drinks go down and smoke goes up i feel my...   \n",
       "2  she don t live on planet earth no more she fou...   \n",
       "3  trippin off that grigio mobbin lights low trip...   \n",
       "4  i see a midnight panther so gallant and so bra...   \n",
       "\n",
       "                                       seq_cleaned_2  \\\n",
       "0  ever trapped bando oh lord get wrong know coup...   \n",
       "1  drinks go smoke goes feel got let go cares get...   \n",
       "2  live planet earth found love venus word said n...   \n",
       "3  trippin grigio mobbin lights low trippin grigi...   \n",
       "4  see midnight panther gallant brave found found...   \n",
       "\n",
       "                                       seq_cleaned_3  \\\n",
       "0  bando oh lord couple place everybody name atti...   \n",
       "1  drinks smoke cares crowd lights eyes live till...   \n",
       "2  planet earth venus word space time movin fault...   \n",
       "3  trippin grigio lights trippin grigio lights tr...   \n",
       "4  midnight panther gallant brave answers thunder...   \n",
       "\n",
       "                                              topics                song  \n",
       "0  money pay dollar cash pocket car paper clothes...            Everyday  \n",
       "1  till skies sleep babe desire plan tune kiss te...    Live Till We Die  \n",
       "2  man understand wife plan women band truck dog ...       The Otherside  \n",
       "3  baby lovin babe diamond treat mon feelin crazy...               Pinot  \n",
       "4  love speak brings kisses tender lover angel gl...  Shadows & Diamonds  "
      ]
     },
     "execution_count": 24,
     "metadata": {},
     "output_type": "execute_result"
    }
   ],
   "source": [
    "df_cleaned = pd.read_csv('~/Kaggle/Pre-processed dataset/cleaned_lyrics_topics.csv')\n",
    "columns = ['artist','seq','seq_cleaned_3','topics']\n",
    "final_df = df_cleaned[columns].copy()\n",
    "# Merge df with 'song' column from df based on 'artist' and 'lyrics'\n",
    "final_df = pd.merge(df_cleaned, df[['artist', 'song', 'seq']], on=['artist', 'seq'], how='left')\n",
    "final_df.head()"
   ]
  },
  {
   "cell_type": "code",
   "execution_count": null,
   "metadata": {},
   "outputs": [],
   "source": [
    "final_df.to_csv('~/Kaggle/Pre-processed dataset/final_df.csv', index = False)"
   ]
  },
  {
   "cell_type": "code",
   "execution_count": 25,
   "metadata": {},
   "outputs": [
    {
     "name": "stdout",
     "output_type": "stream",
     "text": [
      "Done...\n",
      "CPU times: user 172 ms, sys: 275 ms, total: 447 ms\n",
      "Wall time: 949 ms\n"
     ]
    }
   ],
   "source": [
    "%%time\n",
    "pickle.dump(final_df, open(f\"Transformers_Models/final_df.pickle\", \"wb\"))\n",
    "print('Done...')"
   ]
  },
  {
   "cell_type": "code",
   "execution_count": null,
   "metadata": {
    "id": "4YhP4nAC2Ls6"
   },
   "outputs": [],
   "source": [
    "vect_ = pickle.load(open('Transformers_Models/tfidf_lyrics_recommendation_mindf1024.pickle', 'rb'))\n",
    "model_ = pickle.load(open('Transformers_Models/model_1_mindf1024_comp200.pickle', 'rb'))\n",
    "components_df_ = pd.DataFrame(model_.components_, columns=vect_.get_feature_names_out())"
   ]
  },
  {
   "cell_type": "code",
   "execution_count": null,
   "metadata": {
    "id": "lbDRMmcV1sZB"
   },
   "outputs": [],
   "source": [
    "req = \"\"\"I was stressed out, goin' out of my mind\n",
    "When you found me, you know you caught my eye\n",
    "You really calmed me down, it was a different time\n",
    "You really showed me, you know me\n",
    "\n",
    "[Chorus]\n",
    "Sunlight on the water\n",
    "Far as I can see\n",
    "Now we found each other\n",
    "It's making sense to me\n",
    "\n",
    "[Verse 2]\n",
    "Out the window, sneakin' out of your room\n",
    "While they all sleep, you gotta find me soon\n",
    "I'm in my car now (Feelin' it, feelin' it)\n",
    "You know what to do, you come and meet me (That shit so special, that shit so special)\n",
    "It's after dark now\n",
    "Put your soft hands on me, show me\n",
    "\n",
    "[Chorus]\n",
    "Sunlight on the water\n",
    "Far as I can see\n",
    "Now we found each other (Ooh-ooh-ooh)\n",
    "It's making sensе to me\n",
    "\"\"\""
   ]
  },
  {
   "cell_type": "code",
   "execution_count": null,
   "metadata": {
    "colab": {
     "base_uri": "https://localhost:8080/"
    },
    "executionInfo": {
     "elapsed": 25,
     "status": "ok",
     "timestamp": 1697992277760,
     "user": {
      "displayName": "Ugwu Chukwuemeka",
      "userId": "16925398294240703700"
     },
     "user_tz": -60
    },
    "id": "eZ3AOVZ206zY",
    "outputId": "776dff58-3ded-4ca7-f9e1-c51e29ef61cb"
   },
   "outputs": [],
   "source": [
    "# Transform the TF-IDF\n",
    "X_test = vect_.transform([req])\n",
    "# Transform the TF-IDF: nmf_features\n",
    "nmf_features_test = model_.transform(X_test)\n",
    "pd.DataFrame(nmf_features_test).idxmax(axis=1)"
   ]
  },
  {
   "cell_type": "code",
   "execution_count": null,
   "metadata": {
    "colab": {
     "base_uri": "https://localhost:8080/"
    },
    "executionInfo": {
     "elapsed": 2346,
     "status": "ok",
     "timestamp": 1697992284803,
     "user": {
      "displayName": "Ugwu Chukwuemeka",
      "userId": "16925398294240703700"
     },
     "user_tz": -60
    },
    "id": "6P948mkCGkam",
    "outputId": "23c070cd-cfd8-4d0d-bc7b-15b7e06c56ed"
   },
   "outputs": [],
   "source": [
    "print(\"sentence : \",  req)\n",
    "tmp_test = components_df_.iloc[pd.DataFrame(nmf_features_test).idxmax(axis=1)[0]]\n",
    "print(f'For topic {pd.DataFrame(nmf_features_test).idxmax(axis=1)[0]+1} the words with the highest value are:')\n",
    "print(' '.join(tmp_test.nlargest(20)[:20].index))\n",
    "print(tmp_test.nlargest(20)[:20].index)"
   ]
  },
  {
   "cell_type": "code",
   "execution_count": null,
   "metadata": {
    "id": "n6K7txtBGkeO"
   },
   "outputs": [],
   "source": [
    "top_topics = ' '.join(tmp_test.nlargest(20)[:20].index)"
   ]
  },
  {
   "cell_type": "code",
   "execution_count": null,
   "metadata": {
    "id": "y1p_iZpxIoq-"
   },
   "outputs": [],
   "source": [
    "def song_recommendation(df, df_column, topics, threshold):\n",
    "  df = df.copy()\n",
    "  df['word_match'] = df[df_column].apply(word_count)\n",
    "\n",
    "  return df[df['word_match'] >= threshold]\n",
    "\n",
    "def word_count(sentence):\n",
    "  return sum(1 for x in sentence.split() if x in top_topics)"
   ]
  },
  {
   "cell_type": "code",
   "execution_count": null,
   "metadata": {
    "colab": {
     "base_uri": "https://localhost:8080/"
    },
    "executionInfo": {
     "elapsed": 50,
     "status": "ok",
     "timestamp": 1697991611153,
     "user": {
      "displayName": "Ugwu Chukwuemeka",
      "userId": "16925398294240703700"
     },
     "user_tz": -60
    },
    "id": "yYl3HywKIoxN",
    "outputId": "73243e99-4659-45a6-c789-b2650e822201"
   },
   "outputs": [],
   "source": [
    "word_count(top_topics)"
   ]
  },
  {
   "cell_type": "code",
   "execution_count": null,
   "metadata": {
    "colab": {
     "base_uri": "https://localhost:8080/",
     "height": 424
    },
    "executionInfo": {
     "elapsed": 1172,
     "status": "ok",
     "timestamp": 1697991613698,
     "user": {
      "displayName": "Ugwu Chukwuemeka",
      "userId": "16925398294240703700"
     },
     "user_tz": -60
    },
    "id": "e1A5uVQDIo1S",
    "outputId": "35d371ef-78ae-491c-bbeb-cb7d0ef234ce"
   },
   "outputs": [],
   "source": [
    "song_recommendation(final_df,\"topics\", top_topics, 15).sort_values(by = \"word_match\", ascending = False)"
   ]
  },
  {
   "cell_type": "code",
   "execution_count": null,
   "metadata": {
    "colab": {
     "base_uri": "https://localhost:8080/",
     "height": 293
    },
    "executionInfo": {
     "elapsed": 8843,
     "status": "ok",
     "timestamp": 1698077621342,
     "user": {
      "displayName": "Yassine Elhallaoui",
      "userId": "14268864816048715613"
     },
     "user_tz": -120
    },
    "id": "UvzHJB_hXtNl",
    "outputId": "d885109d-c403-4b62-a011-b59737bd0f84"
   },
   "outputs": [],
   "source": [
    "df_cleaned = pd.read_csv('/content/drive/MyDrive/Recommendation Engine/Pre-processed dataset/cleaned_lyrics_topics.csv')\n",
    "# df_cleaned = pd.read_csv('Pre-processed dataset/cleaned_lyrics_topics.csv') ## Yassine path for testing\n",
    "\n",
    "columns = ['artist','seq','seq_cleaned_3','topics']\n",
    "final_df = df_cleaned[columns].copy()\n",
    "final_df.head()"
   ]
  },
  {
   "cell_type": "code",
   "execution_count": null,
   "metadata": {
    "id": "ee1fOAHJVUaL"
   },
   "outputs": [],
   "source": [
    "import torch\n",
    "from datasets import load_dataset\n",
    "from transformers import (\n",
    "    # GPTQConfig,\n",
    "    AutoTokenizer,\n",
    "    AutoModelForCausalLM,\n",
    "    AutoTokenizer,\n",
    "    BitsAndBytesConfig,\n",
    "    TrainingArguments,\n",
    "    pipeline\n",
    ")\n",
    "\n",
    "from peft import LoraConfig\n",
    "from trl import SFTTrainer\n",
    "\n",
    "import datasets"
   ]
  },
  {
   "cell_type": "code",
   "execution_count": null,
   "metadata": {
    "id": "VFvnFAYFGknG"
   },
   "outputs": [],
   "source": [
    "# model_id = \"Hermes-13B-GPTQ\"\n",
    "model_id = \"Llama-2-7b-Chat-GPTQ\"\n",
    "\n",
    "# model_id = \"Llma-2-7b-hf\"\n",
    "# model_id = \"dr_Llma-2-7b-hf\""
   ]
  },
  {
   "cell_type": "code",
   "execution_count": null,
   "metadata": {
    "colab": {
     "base_uri": "https://localhost:8080/"
    },
    "executionInfo": {
     "elapsed": 2,
     "status": "ok",
     "timestamp": 1698077636463,
     "user": {
      "displayName": "Yassine Elhallaoui",
      "userId": "14268864816048715613"
     },
     "user_tz": -120
    },
    "id": "-FU5_r2NXNVu",
    "outputId": "5b332568-7c4d-42ba-c329-5c559d9f6ab7"
   },
   "outputs": [],
   "source": [
    "## load a dataset and we can train our model.\n",
    "lyrics_data = datasets.Dataset.from_pandas(final_df[['seq', 'artist', 'topics']], split=\"train\")\n",
    "lyrics_data"
   ]
  },
  {
   "cell_type": "code",
   "execution_count": null,
   "metadata": {
    "id": "5cavqX7RkZrc"
   },
   "outputs": [],
   "source": [
    "# Tokenizer\n",
    "llama_tokenizer = AutoTokenizer.from_pretrained(model_id, trust_remote_code=True)\n",
    "llama_tokenizer.pad_token = llama_tokenizer.eos_token\n",
    "llama_tokenizer.padding_side = \"right\"  # Fix for fp16\n",
    "\n",
    "# Quantization Config\n",
    "quant_config = BitsAndBytesConfig(\n",
    "    load_in_4bit=True,\n",
    "    bnb_4bit_quant_type=\"nf4\",\n",
    "    bnb_4bit_compute_dtype=torch.float16,\n",
    "    bnb_4bit_use_double_quant=False\n",
    ")"
   ]
  },
  {
   "cell_type": "code",
   "execution_count": null,
   "metadata": {
    "colab": {
     "base_uri": "https://localhost:8080/"
    },
    "executionInfo": {
     "elapsed": 798608,
     "status": "ok",
     "timestamp": 1698078441238,
     "user": {
      "displayName": "Yassine Elhallaoui",
      "userId": "14268864816048715613"
     },
     "user_tz": -120
    },
    "id": "4neJjNdnU0kz",
    "outputId": "dacadd40-e866-4bed-ce8e-ca8ac1c4e3da"
   },
   "outputs": [],
   "source": [
    "# Model\n",
    "base_model = AutoModelForCausalLM.from_pretrained(model_id,\n",
    "                                                  torch_dtype=torch.float16,\n",
    "                                                  load_in_8bit=True,\n",
    "                                                  # quantization_config=quant_config,\n",
    "                                                  device_map=\"auto\",\n",
    "                                                  trust_remote_code=False,\n",
    "                                                  revision=\"main\")\n",
    "\n",
    "base_model.config.use_cache = False\n",
    "base_model.config.pretraining_tp = 1"
   ]
  },
  {
   "cell_type": "code",
   "execution_count": null,
   "metadata": {
    "id": "_pgB3lQfgGsl"
   },
   "outputs": [],
   "source": [
    "# LoRA Config\n",
    "peft_parameters = LoraConfig(\n",
    "    lora_alpha=16,\n",
    "    lora_dropout=0.1,\n",
    "    r=8,\n",
    "    bias=\"none\",\n",
    "    task_type=\"CAUSAL_LM\"\n",
    ")\n",
    "\n",
    "# Training Params\n",
    "train_params = TrainingArguments(\n",
    "    output_dir=\"outputs\",\n",
    "    num_train_epochs=1,\n",
    "    per_device_train_batch_size=4,\n",
    "    gradient_accumulation_steps=2,\n",
    "    # optim=\"paged_adamw_32bit\",\n",
    "    save_steps=25,\n",
    "    logging_steps=25,\n",
    "    learning_rate=2e-4,\n",
    "    weight_decay=0.001,\n",
    "    fp16=False,\n",
    "    bf16=False,\n",
    "    max_grad_norm=0.3,\n",
    "    max_steps=-1,\n",
    "    warmup_ratio=0.03,\n",
    "    group_by_length=True,\n",
    "    lr_scheduler_type=\"constant\",\n",
    "    report_to=\"tensorboard\"\n",
    ")"
   ]
  },
  {
   "cell_type": "code",
   "execution_count": null,
   "metadata": {
    "id": "sw8EDF4JnoCu"
   },
   "outputs": [],
   "source": [
    "import os\n",
    "os.environ[\"CURL_CA_BUNDLE\"] = \"\""
   ]
  },
  {
   "cell_type": "code",
   "execution_count": null,
   "metadata": {
    "colab": {
     "base_uri": "https://localhost:8080/"
    },
    "executionInfo": {
     "elapsed": 820,
     "status": "ok",
     "timestamp": 1698074188524,
     "user": {
      "displayName": "Yassine Elhallaoui",
      "userId": "14268864816048715613"
     },
     "user_tz": -120
    },
    "id": "BuM-ITE1zFfp",
    "outputId": "794b9ee3-8eda-4182-d3eb-9a5b64b0874c"
   },
   "outputs": [],
   "source": [
    "torch.set_grad_enabled(True)  # Context-manager"
   ]
  },
  {
   "cell_type": "code",
   "execution_count": null,
   "metadata": {
    "colab": {
     "base_uri": "https://localhost:8080/",
     "height": 105,
     "referenced_widgets": [
      "d4454956bc94445ea48bbe0ba69df2cc",
      "5b4e10b2330947c6a72187a13c15e5f9",
      "3fb1ce59b4734f41b0425be7f8f7f2a3",
      "1902d80721fc402b87d518f14fea6eae",
      "bc21d9e5466142d7aa6bc6c5be09fbb1",
      "e2ff2b88252a48e19dc0ebad446635eb",
      "76112f2cda5840edbd2db8fabfce63ce",
      "aa25a3933f90493ea7eac8223b151549",
      "ccdc7dd9d6404a4a91bcbee9b3d4d4ac",
      "707737c568f040318ed275621dc4bb67",
      "c4f95b2395b044e48513760e981d3ec3"
     ]
    },
    "executionInfo": {
     "elapsed": 41306,
     "status": "ok",
     "timestamp": 1698078519444,
     "user": {
      "displayName": "Yassine Elhallaoui",
      "userId": "14268864816048715613"
     },
     "user_tz": -120
    },
    "id": "yMkvQq52g0ej",
    "outputId": "5075da80-5f6e-41dd-bded-0a4727cf627a"
   },
   "outputs": [],
   "source": [
    "# Trainer\n",
    "fine_tuning = SFTTrainer(\n",
    "    model=base_model,\n",
    "    train_dataset=lyrics_data,\n",
    "    peft_config=peft_parameters,\n",
    "    dataset_text_field= \"seq\",\n",
    "    tokenizer=llama_tokenizer,\n",
    "    # tokenizer=tokenizer,\n",
    "    max_seq_length=2048,\n",
    "    args=train_params\n",
    ")"
   ]
  },
  {
   "cell_type": "code",
   "execution_count": null,
   "metadata": {
    "colab": {
     "background_save": true,
     "base_uri": "https://localhost:8080/",
     "height": 1000
    },
    "id": "6Ri6iEzsO234",
    "outputId": "8be6c3fc-c18f-42dd-87eb-747de164c627"
   },
   "outputs": [],
   "source": [
    "# Training\n",
    "fine_tuning.train()"
   ]
  },
  {
   "cell_type": "code",
   "execution_count": null,
   "metadata": {
    "colab": {
     "background_save": true
    },
    "id": "Nc70DcLuU0nc",
    "outputId": "ffd2bb02-a8a8-418e-b21b-40a74a9fb0da"
   },
   "outputs": [],
   "source": [
    "# Save Model\n",
    "fine_tuning.model.save_pretrained(\"Meka_MusicLycs_LLM\")"
   ]
  },
  {
   "cell_type": "code",
   "execution_count": null,
   "metadata": {
    "id": "DxvIgy55U0xY"
   },
   "outputs": [],
   "source": []
  },
  {
   "cell_type": "code",
   "execution_count": null,
   "metadata": {
    "id": "5MWJIKODLT2f"
   },
   "outputs": [],
   "source": [
    "# # Load the tokenizer and model\n",
    "# model = AutoModelForCausalLM.from_pretrained(model_id, device_map=\"auto\")\n",
    "c\n",
    "\n",
    "# # Display information about the model\n",
    "# display(model)\n",
    "\n",
    "# # Display quantization configuration\n",
    "# display(model.config.quantization_config.to_dict())"
   ]
  },
  {
   "cell_type": "code",
   "execution_count": null,
   "metadata": {
    "id": "wuA0ObJZaZyi"
   },
   "outputs": [],
   "source": []
  },
  {
   "cell_type": "code",
   "execution_count": null,
   "metadata": {
    "id": "-cwc_NR0miZG"
   },
   "outputs": [],
   "source": []
  },
  {
   "cell_type": "code",
   "execution_count": null,
   "metadata": {
    "id": "d-YD13owmibU"
   },
   "outputs": [],
   "source": []
  },
  {
   "cell_type": "code",
   "execution_count": null,
   "metadata": {
    "id": "Rs2QUBR9midr"
   },
   "outputs": [],
   "source": []
  },
  {
   "cell_type": "code",
   "execution_count": null,
   "metadata": {
    "colab": {
     "base_uri": "https://localhost:8080/"
    },
    "executionInfo": {
     "elapsed": 8421,
     "status": "ok",
     "timestamp": 1697994269562,
     "user": {
      "displayName": "Ugwu Chukwuemeka",
      "userId": "16925398294240703700"
     },
     "user_tz": -60
    },
    "id": "7zrSOYH-JsNj",
    "outputId": "b8de7622-30c0-4c6b-93b5-5d9b9ec371e3"
   },
   "outputs": [],
   "source": [
    "def generate_song_recommendation(prompt, model, tokenizer, max_tokens=128, device=0):\n",
    "    input_ids = tokenizer.encode(prompt, return_tensors=\"pt\").to(device)\n",
    "    output_ids = model.generate(input_ids, max_length=max_tokens, num_return_sequences=1)\n",
    "    generated_text = tokenizer.decode(output_ids[0], skip_special_tokens=True)\n",
    "    return generated_text\n",
    "\n",
    "prompt = \"I'm feeling lonely tonight\"\n",
    "recommended_lyrics = generate_song_recommendation(prompt, model, tokenizer)\n",
    "print(\"Recommended Lyrics:\", recommended_lyrics)\n"
   ]
  },
  {
   "cell_type": "code",
   "execution_count": null,
   "metadata": {
    "id": "8Ta2bWQVJd0G"
   },
   "outputs": [],
   "source": []
  }
 ],
 "metadata": {
  "accelerator": "GPU",
  "colab": {
   "machine_shape": "hm",
   "provenance": [
    {
     "file_id": "1b18KUaVON8Y4hcA6TFtALn-b-MHRCn-x",
     "timestamp": 1697023674182
    }
   ],
   "toc_visible": true
  },
  "kernelspec": {
   "display_name": "Python 3 (ipykernel)",
   "language": "python",
   "name": "python3"
  },
  "language_info": {
   "codemirror_mode": {
    "name": "ipython",
    "version": 3
   },
   "file_extension": ".py",
   "mimetype": "text/x-python",
   "name": "python",
   "nbconvert_exporter": "python",
   "pygments_lexer": "ipython3",
   "version": "3.8.17"
  },
  "widgets": {
   "application/vnd.jupyter.widget-state+json": {
    "03d963b83fde47758d6a45677ec3da16": {
     "model_module": "@jupyter-widgets/base",
     "model_module_version": "1.2.0",
     "model_name": "LayoutModel",
     "state": {
      "_model_module": "@jupyter-widgets/base",
      "_model_module_version": "1.2.0",
      "_model_name": "LayoutModel",
      "_view_count": null,
      "_view_module": "@jupyter-widgets/base",
      "_view_module_version": "1.2.0",
      "_view_name": "LayoutView",
      "align_content": null,
      "align_items": null,
      "align_self": null,
      "border": null,
      "bottom": null,
      "display": null,
      "flex": null,
      "flex_flow": null,
      "grid_area": null,
      "grid_auto_columns": null,
      "grid_auto_flow": null,
      "grid_auto_rows": null,
      "grid_column": null,
      "grid_gap": null,
      "grid_row": null,
      "grid_template_areas": null,
      "grid_template_columns": null,
      "grid_template_rows": null,
      "height": null,
      "justify_content": null,
      "justify_items": null,
      "left": null,
      "margin": null,
      "max_height": null,
      "max_width": null,
      "min_height": null,
      "min_width": null,
      "object_fit": null,
      "object_position": null,
      "order": null,
      "overflow": null,
      "overflow_x": null,
      "overflow_y": null,
      "padding": null,
      "right": null,
      "top": null,
      "visibility": null,
      "width": null
     }
    },
    "078c3b1a3f764f759a521f52f3ba97ea": {
     "model_module": "@jupyter-widgets/base",
     "model_module_version": "1.2.0",
     "model_name": "LayoutModel",
     "state": {
      "_model_module": "@jupyter-widgets/base",
      "_model_module_version": "1.2.0",
      "_model_name": "LayoutModel",
      "_view_count": null,
      "_view_module": "@jupyter-widgets/base",
      "_view_module_version": "1.2.0",
      "_view_name": "LayoutView",
      "align_content": null,
      "align_items": null,
      "align_self": null,
      "border": null,
      "bottom": null,
      "display": null,
      "flex": null,
      "flex_flow": null,
      "grid_area": null,
      "grid_auto_columns": null,
      "grid_auto_flow": null,
      "grid_auto_rows": null,
      "grid_column": null,
      "grid_gap": null,
      "grid_row": null,
      "grid_template_areas": null,
      "grid_template_columns": null,
      "grid_template_rows": null,
      "height": null,
      "justify_content": null,
      "justify_items": null,
      "left": null,
      "margin": null,
      "max_height": null,
      "max_width": null,
      "min_height": null,
      "min_width": null,
      "object_fit": null,
      "object_position": null,
      "order": null,
      "overflow": null,
      "overflow_x": null,
      "overflow_y": null,
      "padding": null,
      "right": null,
      "top": null,
      "visibility": null,
      "width": null
     }
    },
    "0b56bf9416b74187828f4f3d54c125dd": {
     "model_module": "@jupyter-widgets/controls",
     "model_module_version": "1.5.0",
     "model_name": "LabelModel",
     "state": {
      "_dom_classes": [],
      "_model_module": "@jupyter-widgets/controls",
      "_model_module_version": "1.5.0",
      "_model_name": "LabelModel",
      "_view_count": null,
      "_view_module": "@jupyter-widgets/controls",
      "_view_module_version": "1.5.0",
      "_view_name": "LabelView",
      "description": "",
      "description_tooltip": null,
      "layout": "IPY_MODEL_d03150e8c34e43589c883b6b36ce153d",
      "placeholder": "​",
      "style": "IPY_MODEL_4fa458b0fadc4cbb9ca481da1fbd7bf2",
      "value": "79176 / 79176"
     }
    },
    "0bb658850199411d8408d56ae4c091b2": {
     "model_module": "@jupyter-widgets/controls",
     "model_module_version": "1.5.0",
     "model_name": "DescriptionStyleModel",
     "state": {
      "_model_module": "@jupyter-widgets/controls",
      "_model_module_version": "1.5.0",
      "_model_name": "DescriptionStyleModel",
      "_view_count": null,
      "_view_module": "@jupyter-widgets/base",
      "_view_module_version": "1.2.0",
      "_view_name": "StyleView",
      "description_width": ""
     }
    },
    "0ca214fce2c24f8cbcf68ed976ee5257": {
     "model_module": "@jupyter-widgets/controls",
     "model_module_version": "1.5.0",
     "model_name": "IntProgressModel",
     "state": {
      "_dom_classes": [],
      "_model_module": "@jupyter-widgets/controls",
      "_model_module_version": "1.5.0",
      "_model_name": "IntProgressModel",
      "_view_count": null,
      "_view_module": "@jupyter-widgets/controls",
      "_view_module_version": "1.5.0",
      "_view_name": "ProgressView",
      "bar_style": "success",
      "description": "100.00%",
      "description_tooltip": null,
      "layout": "IPY_MODEL_0e5fa90035044af4af37148fa70c9699",
      "max": 79176,
      "min": 0,
      "orientation": "horizontal",
      "style": "IPY_MODEL_818a6f4275c340c3b2d3ecb7c401c720",
      "value": 79176
     }
    },
    "0cf962fef4764d80a57bfe7e61fe0649": {
     "model_module": "@jupyter-widgets/controls",
     "model_module_version": "1.5.0",
     "model_name": "DescriptionStyleModel",
     "state": {
      "_model_module": "@jupyter-widgets/controls",
      "_model_module_version": "1.5.0",
      "_model_name": "DescriptionStyleModel",
      "_view_count": null,
      "_view_module": "@jupyter-widgets/base",
      "_view_module_version": "1.2.0",
      "_view_name": "StyleView",
      "description_width": ""
     }
    },
    "0d45d4e84b314a0eaf7ee84ad3e74929": {
     "model_module": "@jupyter-widgets/controls",
     "model_module_version": "1.5.0",
     "model_name": "HBoxModel",
     "state": {
      "_dom_classes": [],
      "_model_module": "@jupyter-widgets/controls",
      "_model_module_version": "1.5.0",
      "_model_name": "HBoxModel",
      "_view_count": null,
      "_view_module": "@jupyter-widgets/controls",
      "_view_module_version": "1.5.0",
      "_view_name": "HBoxView",
      "box_style": "",
      "children": [
       "IPY_MODEL_1b4d88ed7d8945fd906f57d8e36f765c",
       "IPY_MODEL_8fd0880d9ae34ecbb97ad011f1602bd1"
      ],
      "layout": "IPY_MODEL_1a0cbd9fa0414d079d49fe333fcbc9ba"
     }
    },
    "0e5fa90035044af4af37148fa70c9699": {
     "model_module": "@jupyter-widgets/base",
     "model_module_version": "1.2.0",
     "model_name": "LayoutModel",
     "state": {
      "_model_module": "@jupyter-widgets/base",
      "_model_module_version": "1.2.0",
      "_model_name": "LayoutModel",
      "_view_count": null,
      "_view_module": "@jupyter-widgets/base",
      "_view_module_version": "1.2.0",
      "_view_name": "LayoutView",
      "align_content": null,
      "align_items": null,
      "align_self": null,
      "border": null,
      "bottom": null,
      "display": null,
      "flex": null,
      "flex_flow": null,
      "grid_area": null,
      "grid_auto_columns": null,
      "grid_auto_flow": null,
      "grid_auto_rows": null,
      "grid_column": null,
      "grid_gap": null,
      "grid_row": null,
      "grid_template_areas": null,
      "grid_template_columns": null,
      "grid_template_rows": null,
      "height": null,
      "justify_content": null,
      "justify_items": null,
      "left": null,
      "margin": null,
      "max_height": null,
      "max_width": null,
      "min_height": null,
      "min_width": null,
      "object_fit": null,
      "object_position": null,
      "order": null,
      "overflow": null,
      "overflow_x": null,
      "overflow_y": null,
      "padding": null,
      "right": null,
      "top": null,
      "visibility": null,
      "width": null
     }
    },
    "0e7b886ca4a9479c95ffbd525f182ddc": {
     "model_module": "@jupyter-widgets/base",
     "model_module_version": "1.2.0",
     "model_name": "LayoutModel",
     "state": {
      "_model_module": "@jupyter-widgets/base",
      "_model_module_version": "1.2.0",
      "_model_name": "LayoutModel",
      "_view_count": null,
      "_view_module": "@jupyter-widgets/base",
      "_view_module_version": "1.2.0",
      "_view_name": "LayoutView",
      "align_content": null,
      "align_items": null,
      "align_self": null,
      "border": null,
      "bottom": null,
      "display": null,
      "flex": null,
      "flex_flow": null,
      "grid_area": null,
      "grid_auto_columns": null,
      "grid_auto_flow": null,
      "grid_auto_rows": null,
      "grid_column": null,
      "grid_gap": null,
      "grid_row": null,
      "grid_template_areas": null,
      "grid_template_columns": null,
      "grid_template_rows": null,
      "height": null,
      "justify_content": null,
      "justify_items": null,
      "left": null,
      "margin": null,
      "max_height": null,
      "max_width": null,
      "min_height": null,
      "min_width": null,
      "object_fit": null,
      "object_position": null,
      "order": null,
      "overflow": null,
      "overflow_x": null,
      "overflow_y": null,
      "padding": null,
      "right": null,
      "top": null,
      "visibility": null,
      "width": null
     }
    },
    "0f73442597b441b7ab90c22141d0ef71": {
     "model_module": "@jupyter-widgets/controls",
     "model_module_version": "1.5.0",
     "model_name": "HTMLModel",
     "state": {
      "_dom_classes": [],
      "_model_module": "@jupyter-widgets/controls",
      "_model_module_version": "1.5.0",
      "_model_name": "HTMLModel",
      "_view_count": null,
      "_view_module": "@jupyter-widgets/controls",
      "_view_module_version": "1.5.0",
      "_view_name": "HTMLView",
      "description": "",
      "description_tooltip": null,
      "layout": "IPY_MODEL_3100ccdfbfc54de8af31cc685fedcb42",
      "placeholder": "​",
      "style": "IPY_MODEL_38ce39344468431aa384c27bbd39faaa",
      "value": "100%"
     }
    },
    "0ff1144db0a94130ad5fb4cb088b8872": {
     "model_module": "@jupyter-widgets/controls",
     "model_module_version": "1.5.0",
     "model_name": "HBoxModel",
     "state": {
      "_dom_classes": [],
      "_model_module": "@jupyter-widgets/controls",
      "_model_module_version": "1.5.0",
      "_model_name": "HBoxModel",
      "_view_count": null,
      "_view_module": "@jupyter-widgets/controls",
      "_view_module_version": "1.5.0",
      "_view_name": "HBoxView",
      "box_style": "",
      "children": [
       "IPY_MODEL_43bdcfa0a2d84d20bd515e25ad0e112a",
       "IPY_MODEL_0b56bf9416b74187828f4f3d54c125dd"
      ],
      "layout": "IPY_MODEL_03d963b83fde47758d6a45677ec3da16"
     }
    },
    "1061d00b83594df58b25ac6d61b513aa": {
     "model_module": "@jupyter-widgets/controls",
     "model_module_version": "1.5.0",
     "model_name": "DescriptionStyleModel",
     "state": {
      "_model_module": "@jupyter-widgets/controls",
      "_model_module_version": "1.5.0",
      "_model_name": "DescriptionStyleModel",
      "_view_count": null,
      "_view_module": "@jupyter-widgets/base",
      "_view_module_version": "1.2.0",
      "_view_name": "StyleView",
      "description_width": ""
     }
    },
    "10d0907983b147a4bd45f938292d04e8": {
     "model_module": "@jupyter-widgets/controls",
     "model_module_version": "1.5.0",
     "model_name": "LabelModel",
     "state": {
      "_dom_classes": [],
      "_model_module": "@jupyter-widgets/controls",
      "_model_module_version": "1.5.0",
      "_model_name": "LabelModel",
      "_view_count": null,
      "_view_module": "@jupyter-widgets/controls",
      "_view_module_version": "1.5.0",
      "_view_name": "LabelView",
      "description": "",
      "description_tooltip": null,
      "layout": "IPY_MODEL_319707bec48448b3bf1aa96a16edc18b",
      "placeholder": "​",
      "style": "IPY_MODEL_0cf962fef4764d80a57bfe7e61fe0649",
      "value": "79177 / 79177"
     }
    },
    "10e5a090f5e7441fb0e73a29807f2573": {
     "model_module": "@jupyter-widgets/controls",
     "model_module_version": "1.5.0",
     "model_name": "FloatProgressModel",
     "state": {
      "_dom_classes": [],
      "_model_module": "@jupyter-widgets/controls",
      "_model_module_version": "1.5.0",
      "_model_name": "FloatProgressModel",
      "_view_count": null,
      "_view_module": "@jupyter-widgets/controls",
      "_view_module_version": "1.5.0",
      "_view_name": "ProgressView",
      "bar_style": "success",
      "description": "",
      "description_tooltip": null,
      "layout": "IPY_MODEL_d230977a9e5e4211bf566aecd6a4153a",
      "max": 158353,
      "min": 0,
      "orientation": "horizontal",
      "style": "IPY_MODEL_2af17282604f4d26bbb4c3dbe43a6c6a",
      "value": 158353
     }
    },
    "11efe6208c09499fb4df4597afe6a6fb": {
     "model_module": "@jupyter-widgets/controls",
     "model_module_version": "1.5.0",
     "model_name": "ProgressStyleModel",
     "state": {
      "_model_module": "@jupyter-widgets/controls",
      "_model_module_version": "1.5.0",
      "_model_name": "ProgressStyleModel",
      "_view_count": null,
      "_view_module": "@jupyter-widgets/base",
      "_view_module_version": "1.2.0",
      "_view_name": "StyleView",
      "bar_color": null,
      "description_width": ""
     }
    },
    "1902d80721fc402b87d518f14fea6eae": {
     "model_module": "@jupyter-widgets/controls",
     "model_module_version": "1.5.0",
     "model_name": "HTMLModel",
     "state": {
      "_dom_classes": [],
      "_model_module": "@jupyter-widgets/controls",
      "_model_module_version": "1.5.0",
      "_model_name": "HTMLModel",
      "_view_count": null,
      "_view_module": "@jupyter-widgets/controls",
      "_view_module_version": "1.5.0",
      "_view_name": "HTMLView",
      "description": "",
      "description_tooltip": null,
      "layout": "IPY_MODEL_707737c568f040318ed275621dc4bb67",
      "placeholder": "​",
      "style": "IPY_MODEL_c4f95b2395b044e48513760e981d3ec3",
      "value": " 158234/158234 [00:32&lt;00:00, 4794.87 examples/s]"
     }
    },
    "1a0cbd9fa0414d079d49fe333fcbc9ba": {
     "model_module": "@jupyter-widgets/base",
     "model_module_version": "1.2.0",
     "model_name": "LayoutModel",
     "state": {
      "_model_module": "@jupyter-widgets/base",
      "_model_module_version": "1.2.0",
      "_model_name": "LayoutModel",
      "_view_count": null,
      "_view_module": "@jupyter-widgets/base",
      "_view_module_version": "1.2.0",
      "_view_name": "LayoutView",
      "align_content": null,
      "align_items": null,
      "align_self": null,
      "border": null,
      "bottom": null,
      "display": null,
      "flex": null,
      "flex_flow": null,
      "grid_area": null,
      "grid_auto_columns": null,
      "grid_auto_flow": null,
      "grid_auto_rows": null,
      "grid_column": null,
      "grid_gap": null,
      "grid_row": null,
      "grid_template_areas": null,
      "grid_template_columns": null,
      "grid_template_rows": null,
      "height": null,
      "justify_content": null,
      "justify_items": null,
      "left": null,
      "margin": null,
      "max_height": null,
      "max_width": null,
      "min_height": null,
      "min_width": null,
      "object_fit": null,
      "object_position": null,
      "order": null,
      "overflow": null,
      "overflow_x": null,
      "overflow_y": null,
      "padding": null,
      "right": null,
      "top": null,
      "visibility": null,
      "width": null
     }
    },
    "1a13500c5f1a41979df1212dd590a277": {
     "model_module": "@jupyter-widgets/base",
     "model_module_version": "1.2.0",
     "model_name": "LayoutModel",
     "state": {
      "_model_module": "@jupyter-widgets/base",
      "_model_module_version": "1.2.0",
      "_model_name": "LayoutModel",
      "_view_count": null,
      "_view_module": "@jupyter-widgets/base",
      "_view_module_version": "1.2.0",
      "_view_name": "LayoutView",
      "align_content": null,
      "align_items": null,
      "align_self": null,
      "border": null,
      "bottom": null,
      "display": null,
      "flex": null,
      "flex_flow": null,
      "grid_area": null,
      "grid_auto_columns": null,
      "grid_auto_flow": null,
      "grid_auto_rows": null,
      "grid_column": null,
      "grid_gap": null,
      "grid_row": null,
      "grid_template_areas": null,
      "grid_template_columns": null,
      "grid_template_rows": null,
      "height": null,
      "justify_content": null,
      "justify_items": null,
      "left": null,
      "margin": null,
      "max_height": null,
      "max_width": null,
      "min_height": null,
      "min_width": null,
      "object_fit": null,
      "object_position": null,
      "order": null,
      "overflow": null,
      "overflow_x": null,
      "overflow_y": null,
      "padding": null,
      "right": null,
      "top": null,
      "visibility": null,
      "width": null
     }
    },
    "1b4d88ed7d8945fd906f57d8e36f765c": {
     "model_module": "@jupyter-widgets/controls",
     "model_module_version": "1.5.0",
     "model_name": "IntProgressModel",
     "state": {
      "_dom_classes": [],
      "_model_module": "@jupyter-widgets/controls",
      "_model_module_version": "1.5.0",
      "_model_name": "IntProgressModel",
      "_view_count": null,
      "_view_module": "@jupyter-widgets/controls",
      "_view_module_version": "1.5.0",
      "_view_name": "ProgressView",
      "bar_style": "success",
      "description": "100.00%",
      "description_tooltip": null,
      "layout": "IPY_MODEL_0e7b886ca4a9479c95ffbd525f182ddc",
      "max": 79177,
      "min": 0,
      "orientation": "horizontal",
      "style": "IPY_MODEL_8e83774266484e4c8381053800adbf2a",
      "value": 79177
     }
    },
    "1b59197055824086b735d92be7f30683": {
     "model_module": "@jupyter-widgets/controls",
     "model_module_version": "1.5.0",
     "model_name": "ProgressStyleModel",
     "state": {
      "_model_module": "@jupyter-widgets/controls",
      "_model_module_version": "1.5.0",
      "_model_name": "ProgressStyleModel",
      "_view_count": null,
      "_view_module": "@jupyter-widgets/base",
      "_view_module_version": "1.2.0",
      "_view_name": "StyleView",
      "bar_color": null,
      "description_width": ""
     }
    },
    "1be7a425287a4ce6b819a046fed9fb4a": {
     "model_module": "@jupyter-widgets/controls",
     "model_module_version": "1.5.0",
     "model_name": "IntProgressModel",
     "state": {
      "_dom_classes": [],
      "_model_module": "@jupyter-widgets/controls",
      "_model_module_version": "1.5.0",
      "_model_name": "IntProgressModel",
      "_view_count": null,
      "_view_module": "@jupyter-widgets/controls",
      "_view_module_version": "1.5.0",
      "_view_name": "ProgressView",
      "bar_style": "success",
      "description": "100.00%",
      "description_tooltip": null,
      "layout": "IPY_MODEL_2f3854e38f7e49909853cbec659425c0",
      "max": 79177,
      "min": 0,
      "orientation": "horizontal",
      "style": "IPY_MODEL_617b180bcea948259a56d23560bb67d8",
      "value": 79177
     }
    },
    "1efaa136692041d88f0419f0ff79d439": {
     "model_module": "@jupyter-widgets/controls",
     "model_module_version": "1.5.0",
     "model_name": "IntProgressModel",
     "state": {
      "_dom_classes": [],
      "_model_module": "@jupyter-widgets/controls",
      "_model_module_version": "1.5.0",
      "_model_name": "IntProgressModel",
      "_view_count": null,
      "_view_module": "@jupyter-widgets/controls",
      "_view_module_version": "1.5.0",
      "_view_name": "ProgressView",
      "bar_style": "success",
      "description": "100.00%",
      "description_tooltip": null,
      "layout": "IPY_MODEL_b030b754222345bc94e5cc599e0945ba",
      "max": 79117,
      "min": 0,
      "orientation": "horizontal",
      "style": "IPY_MODEL_11efe6208c09499fb4df4597afe6a6fb",
      "value": 79117
     }
    },
    "286ab442f36c4f25a4d8678ee37b3511": {
     "model_module": "@jupyter-widgets/base",
     "model_module_version": "1.2.0",
     "model_name": "LayoutModel",
     "state": {
      "_model_module": "@jupyter-widgets/base",
      "_model_module_version": "1.2.0",
      "_model_name": "LayoutModel",
      "_view_count": null,
      "_view_module": "@jupyter-widgets/base",
      "_view_module_version": "1.2.0",
      "_view_name": "LayoutView",
      "align_content": null,
      "align_items": null,
      "align_self": null,
      "border": null,
      "bottom": null,
      "display": null,
      "flex": null,
      "flex_flow": null,
      "grid_area": null,
      "grid_auto_columns": null,
      "grid_auto_flow": null,
      "grid_auto_rows": null,
      "grid_column": null,
      "grid_gap": null,
      "grid_row": null,
      "grid_template_areas": null,
      "grid_template_columns": null,
      "grid_template_rows": null,
      "height": null,
      "justify_content": null,
      "justify_items": null,
      "left": null,
      "margin": null,
      "max_height": null,
      "max_width": null,
      "min_height": null,
      "min_width": null,
      "object_fit": null,
      "object_position": null,
      "order": null,
      "overflow": null,
      "overflow_x": null,
      "overflow_y": null,
      "padding": null,
      "right": null,
      "top": null,
      "visibility": null,
      "width": null
     }
    },
    "2af17282604f4d26bbb4c3dbe43a6c6a": {
     "model_module": "@jupyter-widgets/controls",
     "model_module_version": "1.5.0",
     "model_name": "ProgressStyleModel",
     "state": {
      "_model_module": "@jupyter-widgets/controls",
      "_model_module_version": "1.5.0",
      "_model_name": "ProgressStyleModel",
      "_view_count": null,
      "_view_module": "@jupyter-widgets/base",
      "_view_module_version": "1.2.0",
      "_view_name": "StyleView",
      "bar_color": null,
      "description_width": ""
     }
    },
    "2f3854e38f7e49909853cbec659425c0": {
     "model_module": "@jupyter-widgets/base",
     "model_module_version": "1.2.0",
     "model_name": "LayoutModel",
     "state": {
      "_model_module": "@jupyter-widgets/base",
      "_model_module_version": "1.2.0",
      "_model_name": "LayoutModel",
      "_view_count": null,
      "_view_module": "@jupyter-widgets/base",
      "_view_module_version": "1.2.0",
      "_view_name": "LayoutView",
      "align_content": null,
      "align_items": null,
      "align_self": null,
      "border": null,
      "bottom": null,
      "display": null,
      "flex": null,
      "flex_flow": null,
      "grid_area": null,
      "grid_auto_columns": null,
      "grid_auto_flow": null,
      "grid_auto_rows": null,
      "grid_column": null,
      "grid_gap": null,
      "grid_row": null,
      "grid_template_areas": null,
      "grid_template_columns": null,
      "grid_template_rows": null,
      "height": null,
      "justify_content": null,
      "justify_items": null,
      "left": null,
      "margin": null,
      "max_height": null,
      "max_width": null,
      "min_height": null,
      "min_width": null,
      "object_fit": null,
      "object_position": null,
      "order": null,
      "overflow": null,
      "overflow_x": null,
      "overflow_y": null,
      "padding": null,
      "right": null,
      "top": null,
      "visibility": null,
      "width": null
     }
    },
    "3100ccdfbfc54de8af31cc685fedcb42": {
     "model_module": "@jupyter-widgets/base",
     "model_module_version": "1.2.0",
     "model_name": "LayoutModel",
     "state": {
      "_model_module": "@jupyter-widgets/base",
      "_model_module_version": "1.2.0",
      "_model_name": "LayoutModel",
      "_view_count": null,
      "_view_module": "@jupyter-widgets/base",
      "_view_module_version": "1.2.0",
      "_view_name": "LayoutView",
      "align_content": null,
      "align_items": null,
      "align_self": null,
      "border": null,
      "bottom": null,
      "display": null,
      "flex": null,
      "flex_flow": null,
      "grid_area": null,
      "grid_auto_columns": null,
      "grid_auto_flow": null,
      "grid_auto_rows": null,
      "grid_column": null,
      "grid_gap": null,
      "grid_row": null,
      "grid_template_areas": null,
      "grid_template_columns": null,
      "grid_template_rows": null,
      "height": null,
      "justify_content": null,
      "justify_items": null,
      "left": null,
      "margin": null,
      "max_height": null,
      "max_width": null,
      "min_height": null,
      "min_width": null,
      "object_fit": null,
      "object_position": null,
      "order": null,
      "overflow": null,
      "overflow_x": null,
      "overflow_y": null,
      "padding": null,
      "right": null,
      "top": null,
      "visibility": null,
      "width": null
     }
    },
    "31658c2633ba4c83b3eb64f1ac7c4d26": {
     "model_module": "@jupyter-widgets/controls",
     "model_module_version": "1.5.0",
     "model_name": "VBoxModel",
     "state": {
      "_dom_classes": [],
      "_model_module": "@jupyter-widgets/controls",
      "_model_module_version": "1.5.0",
      "_model_name": "VBoxModel",
      "_view_count": null,
      "_view_module": "@jupyter-widgets/controls",
      "_view_module_version": "1.5.0",
      "_view_name": "VBoxView",
      "box_style": "",
      "children": [
       "IPY_MODEL_35ed77619f4c4054ae70d79c4598d2ce",
       "IPY_MODEL_0ff1144db0a94130ad5fb4cb088b8872"
      ],
      "layout": "IPY_MODEL_9f6c419aeb804ac082ded95f5dbb0bec"
     }
    },
    "319707bec48448b3bf1aa96a16edc18b": {
     "model_module": "@jupyter-widgets/base",
     "model_module_version": "1.2.0",
     "model_name": "LayoutModel",
     "state": {
      "_model_module": "@jupyter-widgets/base",
      "_model_module_version": "1.2.0",
      "_model_name": "LayoutModel",
      "_view_count": null,
      "_view_module": "@jupyter-widgets/base",
      "_view_module_version": "1.2.0",
      "_view_name": "LayoutView",
      "align_content": null,
      "align_items": null,
      "align_self": null,
      "border": null,
      "bottom": null,
      "display": null,
      "flex": null,
      "flex_flow": null,
      "grid_area": null,
      "grid_auto_columns": null,
      "grid_auto_flow": null,
      "grid_auto_rows": null,
      "grid_column": null,
      "grid_gap": null,
      "grid_row": null,
      "grid_template_areas": null,
      "grid_template_columns": null,
      "grid_template_rows": null,
      "height": null,
      "justify_content": null,
      "justify_items": null,
      "left": null,
      "margin": null,
      "max_height": null,
      "max_width": null,
      "min_height": null,
      "min_width": null,
      "object_fit": null,
      "object_position": null,
      "order": null,
      "overflow": null,
      "overflow_x": null,
      "overflow_y": null,
      "padding": null,
      "right": null,
      "top": null,
      "visibility": null,
      "width": null
     }
    },
    "35ed77619f4c4054ae70d79c4598d2ce": {
     "model_module": "@jupyter-widgets/controls",
     "model_module_version": "1.5.0",
     "model_name": "HBoxModel",
     "state": {
      "_dom_classes": [],
      "_model_module": "@jupyter-widgets/controls",
      "_model_module_version": "1.5.0",
      "_model_name": "HBoxModel",
      "_view_count": null,
      "_view_module": "@jupyter-widgets/controls",
      "_view_module_version": "1.5.0",
      "_view_name": "HBoxView",
      "box_style": "",
      "children": [
       "IPY_MODEL_1be7a425287a4ce6b819a046fed9fb4a",
       "IPY_MODEL_10d0907983b147a4bd45f938292d04e8"
      ],
      "layout": "IPY_MODEL_bbd09de1ccbf49728eacd61bbcfdbf98"
     }
    },
    "37818da6e08f498690b949d850d60940": {
     "model_module": "@jupyter-widgets/base",
     "model_module_version": "1.2.0",
     "model_name": "LayoutModel",
     "state": {
      "_model_module": "@jupyter-widgets/base",
      "_model_module_version": "1.2.0",
      "_model_name": "LayoutModel",
      "_view_count": null,
      "_view_module": "@jupyter-widgets/base",
      "_view_module_version": "1.2.0",
      "_view_name": "LayoutView",
      "align_content": null,
      "align_items": null,
      "align_self": null,
      "border": null,
      "bottom": null,
      "display": null,
      "flex": null,
      "flex_flow": null,
      "grid_area": null,
      "grid_auto_columns": null,
      "grid_auto_flow": null,
      "grid_auto_rows": null,
      "grid_column": null,
      "grid_gap": null,
      "grid_row": null,
      "grid_template_areas": null,
      "grid_template_columns": null,
      "grid_template_rows": null,
      "height": null,
      "justify_content": null,
      "justify_items": null,
      "left": null,
      "margin": null,
      "max_height": null,
      "max_width": null,
      "min_height": null,
      "min_width": null,
      "object_fit": null,
      "object_position": null,
      "order": null,
      "overflow": null,
      "overflow_x": null,
      "overflow_y": null,
      "padding": null,
      "right": null,
      "top": null,
      "visibility": null,
      "width": null
     }
    },
    "38ce39344468431aa384c27bbd39faaa": {
     "model_module": "@jupyter-widgets/controls",
     "model_module_version": "1.5.0",
     "model_name": "DescriptionStyleModel",
     "state": {
      "_model_module": "@jupyter-widgets/controls",
      "_model_module_version": "1.5.0",
      "_model_name": "DescriptionStyleModel",
      "_view_count": null,
      "_view_module": "@jupyter-widgets/base",
      "_view_module_version": "1.2.0",
      "_view_name": "StyleView",
      "description_width": ""
     }
    },
    "3e19ce8596a44f3489dc1d571a427f87": {
     "model_module": "@jupyter-widgets/controls",
     "model_module_version": "1.5.0",
     "model_name": "HBoxModel",
     "state": {
      "_dom_classes": [],
      "_model_module": "@jupyter-widgets/controls",
      "_model_module_version": "1.5.0",
      "_model_name": "HBoxModel",
      "_view_count": null,
      "_view_module": "@jupyter-widgets/controls",
      "_view_module_version": "1.5.0",
      "_view_name": "HBoxView",
      "box_style": "",
      "children": [
       "IPY_MODEL_c9959998f6be4355b5b53f79504e34dc",
       "IPY_MODEL_750061c335b04af386fe29df8e135868"
      ],
      "layout": "IPY_MODEL_99da35f2ee754eb58084c30cd47bf5da"
     }
    },
    "3fb1ce59b4734f41b0425be7f8f7f2a3": {
     "model_module": "@jupyter-widgets/controls",
     "model_module_version": "1.5.0",
     "model_name": "FloatProgressModel",
     "state": {
      "_dom_classes": [],
      "_model_module": "@jupyter-widgets/controls",
      "_model_module_version": "1.5.0",
      "_model_name": "FloatProgressModel",
      "_view_count": null,
      "_view_module": "@jupyter-widgets/controls",
      "_view_module_version": "1.5.0",
      "_view_name": "ProgressView",
      "bar_style": "success",
      "description": "",
      "description_tooltip": null,
      "layout": "IPY_MODEL_aa25a3933f90493ea7eac8223b151549",
      "max": 158234,
      "min": 0,
      "orientation": "horizontal",
      "style": "IPY_MODEL_ccdc7dd9d6404a4a91bcbee9b3d4d4ac",
      "value": 158234
     }
    },
    "43bdcfa0a2d84d20bd515e25ad0e112a": {
     "model_module": "@jupyter-widgets/controls",
     "model_module_version": "1.5.0",
     "model_name": "IntProgressModel",
     "state": {
      "_dom_classes": [],
      "_model_module": "@jupyter-widgets/controls",
      "_model_module_version": "1.5.0",
      "_model_name": "IntProgressModel",
      "_view_count": null,
      "_view_module": "@jupyter-widgets/controls",
      "_view_module_version": "1.5.0",
      "_view_name": "ProgressView",
      "bar_style": "success",
      "description": "100.00%",
      "description_tooltip": null,
      "layout": "IPY_MODEL_89e802aa1bae4ca5b47fc6bacffdcf7e",
      "max": 79176,
      "min": 0,
      "orientation": "horizontal",
      "style": "IPY_MODEL_1b59197055824086b735d92be7f30683",
      "value": 79176
     }
    },
    "4fa458b0fadc4cbb9ca481da1fbd7bf2": {
     "model_module": "@jupyter-widgets/controls",
     "model_module_version": "1.5.0",
     "model_name": "DescriptionStyleModel",
     "state": {
      "_model_module": "@jupyter-widgets/controls",
      "_model_module_version": "1.5.0",
      "_model_name": "DescriptionStyleModel",
      "_view_count": null,
      "_view_module": "@jupyter-widgets/base",
      "_view_module_version": "1.2.0",
      "_view_name": "StyleView",
      "description_width": ""
     }
    },
    "53ae24e559fe49c7adefc0604bd6b40c": {
     "model_module": "@jupyter-widgets/controls",
     "model_module_version": "1.5.0",
     "model_name": "HBoxModel",
     "state": {
      "_dom_classes": [],
      "_model_module": "@jupyter-widgets/controls",
      "_model_module_version": "1.5.0",
      "_model_name": "HBoxModel",
      "_view_count": null,
      "_view_module": "@jupyter-widgets/controls",
      "_view_module_version": "1.5.0",
      "_view_name": "HBoxView",
      "box_style": "",
      "children": [
       "IPY_MODEL_0f73442597b441b7ab90c22141d0ef71",
       "IPY_MODEL_10e5a090f5e7441fb0e73a29807f2573",
       "IPY_MODEL_686b0c2d7a094424a1f796d738d40cbc"
      ],
      "layout": "IPY_MODEL_929dba9375e74673a5e3f792ff4f4a8d"
     }
    },
    "54513fd2e1f9498a8ca0610979bd01f5": {
     "model_module": "@jupyter-widgets/controls",
     "model_module_version": "1.5.0",
     "model_name": "LabelModel",
     "state": {
      "_dom_classes": [],
      "_model_module": "@jupyter-widgets/controls",
      "_model_module_version": "1.5.0",
      "_model_name": "LabelModel",
      "_view_count": null,
      "_view_module": "@jupyter-widgets/controls",
      "_view_module_version": "1.5.0",
      "_view_name": "LabelView",
      "description": "",
      "description_tooltip": null,
      "layout": "IPY_MODEL_f9589ca258e44920bc5793f4b05c83d8",
      "placeholder": "​",
      "style": "IPY_MODEL_1061d00b83594df58b25ac6d61b513aa",
      "value": "79176 / 79176"
     }
    },
    "58ebdc9a71234ac7a4788c75049c0367": {
     "model_module": "@jupyter-widgets/controls",
     "model_module_version": "1.5.0",
     "model_name": "VBoxModel",
     "state": {
      "_dom_classes": [],
      "_model_module": "@jupyter-widgets/controls",
      "_model_module_version": "1.5.0",
      "_model_name": "VBoxModel",
      "_view_count": null,
      "_view_module": "@jupyter-widgets/controls",
      "_view_module_version": "1.5.0",
      "_view_name": "VBoxView",
      "box_style": "",
      "children": [
       "IPY_MODEL_0d45d4e84b314a0eaf7ee84ad3e74929",
       "IPY_MODEL_dcfa6ddeeb8845d49ee353cb75c2dd26"
      ],
      "layout": "IPY_MODEL_1a13500c5f1a41979df1212dd590a277"
     }
    },
    "5b4e10b2330947c6a72187a13c15e5f9": {
     "model_module": "@jupyter-widgets/controls",
     "model_module_version": "1.5.0",
     "model_name": "HTMLModel",
     "state": {
      "_dom_classes": [],
      "_model_module": "@jupyter-widgets/controls",
      "_model_module_version": "1.5.0",
      "_model_name": "HTMLModel",
      "_view_count": null,
      "_view_module": "@jupyter-widgets/controls",
      "_view_module_version": "1.5.0",
      "_view_name": "HTMLView",
      "description": "",
      "description_tooltip": null,
      "layout": "IPY_MODEL_e2ff2b88252a48e19dc0ebad446635eb",
      "placeholder": "​",
      "style": "IPY_MODEL_76112f2cda5840edbd2db8fabfce63ce",
      "value": "Map: 100%"
     }
    },
    "5c92e29d9e0e4d078e8a182f2308c699": {
     "model_module": "@jupyter-widgets/base",
     "model_module_version": "1.2.0",
     "model_name": "LayoutModel",
     "state": {
      "_model_module": "@jupyter-widgets/base",
      "_model_module_version": "1.2.0",
      "_model_name": "LayoutModel",
      "_view_count": null,
      "_view_module": "@jupyter-widgets/base",
      "_view_module_version": "1.2.0",
      "_view_name": "LayoutView",
      "align_content": null,
      "align_items": null,
      "align_self": null,
      "border": null,
      "bottom": null,
      "display": null,
      "flex": null,
      "flex_flow": null,
      "grid_area": null,
      "grid_auto_columns": null,
      "grid_auto_flow": null,
      "grid_auto_rows": null,
      "grid_column": null,
      "grid_gap": null,
      "grid_row": null,
      "grid_template_areas": null,
      "grid_template_columns": null,
      "grid_template_rows": null,
      "height": null,
      "justify_content": null,
      "justify_items": null,
      "left": null,
      "margin": null,
      "max_height": null,
      "max_width": null,
      "min_height": null,
      "min_width": null,
      "object_fit": null,
      "object_position": null,
      "order": null,
      "overflow": null,
      "overflow_x": null,
      "overflow_y": null,
      "padding": null,
      "right": null,
      "top": null,
      "visibility": null,
      "width": null
     }
    },
    "617b180bcea948259a56d23560bb67d8": {
     "model_module": "@jupyter-widgets/controls",
     "model_module_version": "1.5.0",
     "model_name": "ProgressStyleModel",
     "state": {
      "_model_module": "@jupyter-widgets/controls",
      "_model_module_version": "1.5.0",
      "_model_name": "ProgressStyleModel",
      "_view_count": null,
      "_view_module": "@jupyter-widgets/base",
      "_view_module_version": "1.2.0",
      "_view_name": "StyleView",
      "bar_color": null,
      "description_width": ""
     }
    },
    "6302fa94acb54d65ba6c8b1514be1d62": {
     "model_module": "@jupyter-widgets/controls",
     "model_module_version": "1.5.0",
     "model_name": "DescriptionStyleModel",
     "state": {
      "_model_module": "@jupyter-widgets/controls",
      "_model_module_version": "1.5.0",
      "_model_name": "DescriptionStyleModel",
      "_view_count": null,
      "_view_module": "@jupyter-widgets/base",
      "_view_module_version": "1.2.0",
      "_view_name": "StyleView",
      "description_width": ""
     }
    },
    "686b0c2d7a094424a1f796d738d40cbc": {
     "model_module": "@jupyter-widgets/controls",
     "model_module_version": "1.5.0",
     "model_name": "HTMLModel",
     "state": {
      "_dom_classes": [],
      "_model_module": "@jupyter-widgets/controls",
      "_model_module_version": "1.5.0",
      "_model_name": "HTMLModel",
      "_view_count": null,
      "_view_module": "@jupyter-widgets/controls",
      "_view_module_version": "1.5.0",
      "_view_name": "HTMLView",
      "description": "",
      "description_tooltip": null,
      "layout": "IPY_MODEL_7255428a283a45ea9da8acf6341730b4",
      "placeholder": "​",
      "style": "IPY_MODEL_6302fa94acb54d65ba6c8b1514be1d62",
      "value": " 158353/158353 [03:14&lt;00:00, 835.45it/s]"
     }
    },
    "707737c568f040318ed275621dc4bb67": {
     "model_module": "@jupyter-widgets/base",
     "model_module_version": "1.2.0",
     "model_name": "LayoutModel",
     "state": {
      "_model_module": "@jupyter-widgets/base",
      "_model_module_version": "1.2.0",
      "_model_name": "LayoutModel",
      "_view_count": null,
      "_view_module": "@jupyter-widgets/base",
      "_view_module_version": "1.2.0",
      "_view_name": "LayoutView",
      "align_content": null,
      "align_items": null,
      "align_self": null,
      "border": null,
      "bottom": null,
      "display": null,
      "flex": null,
      "flex_flow": null,
      "grid_area": null,
      "grid_auto_columns": null,
      "grid_auto_flow": null,
      "grid_auto_rows": null,
      "grid_column": null,
      "grid_gap": null,
      "grid_row": null,
      "grid_template_areas": null,
      "grid_template_columns": null,
      "grid_template_rows": null,
      "height": null,
      "justify_content": null,
      "justify_items": null,
      "left": null,
      "margin": null,
      "max_height": null,
      "max_width": null,
      "min_height": null,
      "min_width": null,
      "object_fit": null,
      "object_position": null,
      "order": null,
      "overflow": null,
      "overflow_x": null,
      "overflow_y": null,
      "padding": null,
      "right": null,
      "top": null,
      "visibility": null,
      "width": null
     }
    },
    "70b42b1389ab4f1b804517ef9a68d077": {
     "model_module": "@jupyter-widgets/controls",
     "model_module_version": "1.5.0",
     "model_name": "LabelModel",
     "state": {
      "_dom_classes": [],
      "_model_module": "@jupyter-widgets/controls",
      "_model_module_version": "1.5.0",
      "_model_name": "LabelModel",
      "_view_count": null,
      "_view_module": "@jupyter-widgets/controls",
      "_view_module_version": "1.5.0",
      "_view_name": "LabelView",
      "description": "",
      "description_tooltip": null,
      "layout": "IPY_MODEL_37818da6e08f498690b949d850d60940",
      "placeholder": "​",
      "style": "IPY_MODEL_b1ce103b69e948b0a21c06245727d630",
      "value": "79117 / 79117"
     }
    },
    "7255428a283a45ea9da8acf6341730b4": {
     "model_module": "@jupyter-widgets/base",
     "model_module_version": "1.2.0",
     "model_name": "LayoutModel",
     "state": {
      "_model_module": "@jupyter-widgets/base",
      "_model_module_version": "1.2.0",
      "_model_name": "LayoutModel",
      "_view_count": null,
      "_view_module": "@jupyter-widgets/base",
      "_view_module_version": "1.2.0",
      "_view_name": "LayoutView",
      "align_content": null,
      "align_items": null,
      "align_self": null,
      "border": null,
      "bottom": null,
      "display": null,
      "flex": null,
      "flex_flow": null,
      "grid_area": null,
      "grid_auto_columns": null,
      "grid_auto_flow": null,
      "grid_auto_rows": null,
      "grid_column": null,
      "grid_gap": null,
      "grid_row": null,
      "grid_template_areas": null,
      "grid_template_columns": null,
      "grid_template_rows": null,
      "height": null,
      "justify_content": null,
      "justify_items": null,
      "left": null,
      "margin": null,
      "max_height": null,
      "max_width": null,
      "min_height": null,
      "min_width": null,
      "object_fit": null,
      "object_position": null,
      "order": null,
      "overflow": null,
      "overflow_x": null,
      "overflow_y": null,
      "padding": null,
      "right": null,
      "top": null,
      "visibility": null,
      "width": null
     }
    },
    "750061c335b04af386fe29df8e135868": {
     "model_module": "@jupyter-widgets/controls",
     "model_module_version": "1.5.0",
     "model_name": "LabelModel",
     "state": {
      "_dom_classes": [],
      "_model_module": "@jupyter-widgets/controls",
      "_model_module_version": "1.5.0",
      "_model_name": "LabelModel",
      "_view_count": null,
      "_view_module": "@jupyter-widgets/controls",
      "_view_module_version": "1.5.0",
      "_view_name": "LabelView",
      "description": "",
      "description_tooltip": null,
      "layout": "IPY_MODEL_5c92e29d9e0e4d078e8a182f2308c699",
      "placeholder": "​",
      "style": "IPY_MODEL_e36608b19360488ca0e5d352293aaeb4",
      "value": "79117 / 79117"
     }
    },
    "760be20caea0445a8e099d56b0b575f4": {
     "model_module": "@jupyter-widgets/base",
     "model_module_version": "1.2.0",
     "model_name": "LayoutModel",
     "state": {
      "_model_module": "@jupyter-widgets/base",
      "_model_module_version": "1.2.0",
      "_model_name": "LayoutModel",
      "_view_count": null,
      "_view_module": "@jupyter-widgets/base",
      "_view_module_version": "1.2.0",
      "_view_name": "LayoutView",
      "align_content": null,
      "align_items": null,
      "align_self": null,
      "border": null,
      "bottom": null,
      "display": null,
      "flex": null,
      "flex_flow": null,
      "grid_area": null,
      "grid_auto_columns": null,
      "grid_auto_flow": null,
      "grid_auto_rows": null,
      "grid_column": null,
      "grid_gap": null,
      "grid_row": null,
      "grid_template_areas": null,
      "grid_template_columns": null,
      "grid_template_rows": null,
      "height": null,
      "justify_content": null,
      "justify_items": null,
      "left": null,
      "margin": null,
      "max_height": null,
      "max_width": null,
      "min_height": null,
      "min_width": null,
      "object_fit": null,
      "object_position": null,
      "order": null,
      "overflow": null,
      "overflow_x": null,
      "overflow_y": null,
      "padding": null,
      "right": null,
      "top": null,
      "visibility": null,
      "width": null
     }
    },
    "76112f2cda5840edbd2db8fabfce63ce": {
     "model_module": "@jupyter-widgets/controls",
     "model_module_version": "1.5.0",
     "model_name": "DescriptionStyleModel",
     "state": {
      "_model_module": "@jupyter-widgets/controls",
      "_model_module_version": "1.5.0",
      "_model_name": "DescriptionStyleModel",
      "_view_count": null,
      "_view_module": "@jupyter-widgets/base",
      "_view_module_version": "1.2.0",
      "_view_name": "StyleView",
      "description_width": ""
     }
    },
    "7d53c822d3b749c486cfe45a5c3da274": {
     "model_module": "@jupyter-widgets/controls",
     "model_module_version": "1.5.0",
     "model_name": "ProgressStyleModel",
     "state": {
      "_model_module": "@jupyter-widgets/controls",
      "_model_module_version": "1.5.0",
      "_model_name": "ProgressStyleModel",
      "_view_count": null,
      "_view_module": "@jupyter-widgets/base",
      "_view_module_version": "1.2.0",
      "_view_name": "StyleView",
      "bar_color": null,
      "description_width": ""
     }
    },
    "818a6f4275c340c3b2d3ecb7c401c720": {
     "model_module": "@jupyter-widgets/controls",
     "model_module_version": "1.5.0",
     "model_name": "ProgressStyleModel",
     "state": {
      "_model_module": "@jupyter-widgets/controls",
      "_model_module_version": "1.5.0",
      "_model_name": "ProgressStyleModel",
      "_view_count": null,
      "_view_module": "@jupyter-widgets/base",
      "_view_module_version": "1.2.0",
      "_view_name": "StyleView",
      "bar_color": null,
      "description_width": ""
     }
    },
    "89e802aa1bae4ca5b47fc6bacffdcf7e": {
     "model_module": "@jupyter-widgets/base",
     "model_module_version": "1.2.0",
     "model_name": "LayoutModel",
     "state": {
      "_model_module": "@jupyter-widgets/base",
      "_model_module_version": "1.2.0",
      "_model_name": "LayoutModel",
      "_view_count": null,
      "_view_module": "@jupyter-widgets/base",
      "_view_module_version": "1.2.0",
      "_view_name": "LayoutView",
      "align_content": null,
      "align_items": null,
      "align_self": null,
      "border": null,
      "bottom": null,
      "display": null,
      "flex": null,
      "flex_flow": null,
      "grid_area": null,
      "grid_auto_columns": null,
      "grid_auto_flow": null,
      "grid_auto_rows": null,
      "grid_column": null,
      "grid_gap": null,
      "grid_row": null,
      "grid_template_areas": null,
      "grid_template_columns": null,
      "grid_template_rows": null,
      "height": null,
      "justify_content": null,
      "justify_items": null,
      "left": null,
      "margin": null,
      "max_height": null,
      "max_width": null,
      "min_height": null,
      "min_width": null,
      "object_fit": null,
      "object_position": null,
      "order": null,
      "overflow": null,
      "overflow_x": null,
      "overflow_y": null,
      "padding": null,
      "right": null,
      "top": null,
      "visibility": null,
      "width": null
     }
    },
    "8e83774266484e4c8381053800adbf2a": {
     "model_module": "@jupyter-widgets/controls",
     "model_module_version": "1.5.0",
     "model_name": "ProgressStyleModel",
     "state": {
      "_model_module": "@jupyter-widgets/controls",
      "_model_module_version": "1.5.0",
      "_model_name": "ProgressStyleModel",
      "_view_count": null,
      "_view_module": "@jupyter-widgets/base",
      "_view_module_version": "1.2.0",
      "_view_name": "StyleView",
      "bar_color": null,
      "description_width": ""
     }
    },
    "8fd0880d9ae34ecbb97ad011f1602bd1": {
     "model_module": "@jupyter-widgets/controls",
     "model_module_version": "1.5.0",
     "model_name": "LabelModel",
     "state": {
      "_dom_classes": [],
      "_model_module": "@jupyter-widgets/controls",
      "_model_module_version": "1.5.0",
      "_model_name": "LabelModel",
      "_view_count": null,
      "_view_module": "@jupyter-widgets/controls",
      "_view_module_version": "1.5.0",
      "_view_name": "LabelView",
      "description": "",
      "description_tooltip": null,
      "layout": "IPY_MODEL_760be20caea0445a8e099d56b0b575f4",
      "placeholder": "​",
      "style": "IPY_MODEL_0bb658850199411d8408d56ae4c091b2",
      "value": "79177 / 79177"
     }
    },
    "929dba9375e74673a5e3f792ff4f4a8d": {
     "model_module": "@jupyter-widgets/base",
     "model_module_version": "1.2.0",
     "model_name": "LayoutModel",
     "state": {
      "_model_module": "@jupyter-widgets/base",
      "_model_module_version": "1.2.0",
      "_model_name": "LayoutModel",
      "_view_count": null,
      "_view_module": "@jupyter-widgets/base",
      "_view_module_version": "1.2.0",
      "_view_name": "LayoutView",
      "align_content": null,
      "align_items": null,
      "align_self": null,
      "border": null,
      "bottom": null,
      "display": null,
      "flex": null,
      "flex_flow": null,
      "grid_area": null,
      "grid_auto_columns": null,
      "grid_auto_flow": null,
      "grid_auto_rows": null,
      "grid_column": null,
      "grid_gap": null,
      "grid_row": null,
      "grid_template_areas": null,
      "grid_template_columns": null,
      "grid_template_rows": null,
      "height": null,
      "justify_content": null,
      "justify_items": null,
      "left": null,
      "margin": null,
      "max_height": null,
      "max_width": null,
      "min_height": null,
      "min_width": null,
      "object_fit": null,
      "object_position": null,
      "order": null,
      "overflow": null,
      "overflow_x": null,
      "overflow_y": null,
      "padding": null,
      "right": null,
      "top": null,
      "visibility": null,
      "width": null
     }
    },
    "995eb26444ed4a4a81846459cb29fe23": {
     "model_module": "@jupyter-widgets/base",
     "model_module_version": "1.2.0",
     "model_name": "LayoutModel",
     "state": {
      "_model_module": "@jupyter-widgets/base",
      "_model_module_version": "1.2.0",
      "_model_name": "LayoutModel",
      "_view_count": null,
      "_view_module": "@jupyter-widgets/base",
      "_view_module_version": "1.2.0",
      "_view_name": "LayoutView",
      "align_content": null,
      "align_items": null,
      "align_self": null,
      "border": null,
      "bottom": null,
      "display": null,
      "flex": null,
      "flex_flow": null,
      "grid_area": null,
      "grid_auto_columns": null,
      "grid_auto_flow": null,
      "grid_auto_rows": null,
      "grid_column": null,
      "grid_gap": null,
      "grid_row": null,
      "grid_template_areas": null,
      "grid_template_columns": null,
      "grid_template_rows": null,
      "height": null,
      "justify_content": null,
      "justify_items": null,
      "left": null,
      "margin": null,
      "max_height": null,
      "max_width": null,
      "min_height": null,
      "min_width": null,
      "object_fit": null,
      "object_position": null,
      "order": null,
      "overflow": null,
      "overflow_x": null,
      "overflow_y": null,
      "padding": null,
      "right": null,
      "top": null,
      "visibility": null,
      "width": null
     }
    },
    "99da35f2ee754eb58084c30cd47bf5da": {
     "model_module": "@jupyter-widgets/base",
     "model_module_version": "1.2.0",
     "model_name": "LayoutModel",
     "state": {
      "_model_module": "@jupyter-widgets/base",
      "_model_module_version": "1.2.0",
      "_model_name": "LayoutModel",
      "_view_count": null,
      "_view_module": "@jupyter-widgets/base",
      "_view_module_version": "1.2.0",
      "_view_name": "LayoutView",
      "align_content": null,
      "align_items": null,
      "align_self": null,
      "border": null,
      "bottom": null,
      "display": null,
      "flex": null,
      "flex_flow": null,
      "grid_area": null,
      "grid_auto_columns": null,
      "grid_auto_flow": null,
      "grid_auto_rows": null,
      "grid_column": null,
      "grid_gap": null,
      "grid_row": null,
      "grid_template_areas": null,
      "grid_template_columns": null,
      "grid_template_rows": null,
      "height": null,
      "justify_content": null,
      "justify_items": null,
      "left": null,
      "margin": null,
      "max_height": null,
      "max_width": null,
      "min_height": null,
      "min_width": null,
      "object_fit": null,
      "object_position": null,
      "order": null,
      "overflow": null,
      "overflow_x": null,
      "overflow_y": null,
      "padding": null,
      "right": null,
      "top": null,
      "visibility": null,
      "width": null
     }
    },
    "9a9865842ced486b9d427ac495976d37": {
     "model_module": "@jupyter-widgets/base",
     "model_module_version": "1.2.0",
     "model_name": "LayoutModel",
     "state": {
      "_model_module": "@jupyter-widgets/base",
      "_model_module_version": "1.2.0",
      "_model_name": "LayoutModel",
      "_view_count": null,
      "_view_module": "@jupyter-widgets/base",
      "_view_module_version": "1.2.0",
      "_view_name": "LayoutView",
      "align_content": null,
      "align_items": null,
      "align_self": null,
      "border": null,
      "bottom": null,
      "display": null,
      "flex": null,
      "flex_flow": null,
      "grid_area": null,
      "grid_auto_columns": null,
      "grid_auto_flow": null,
      "grid_auto_rows": null,
      "grid_column": null,
      "grid_gap": null,
      "grid_row": null,
      "grid_template_areas": null,
      "grid_template_columns": null,
      "grid_template_rows": null,
      "height": null,
      "justify_content": null,
      "justify_items": null,
      "left": null,
      "margin": null,
      "max_height": null,
      "max_width": null,
      "min_height": null,
      "min_width": null,
      "object_fit": null,
      "object_position": null,
      "order": null,
      "overflow": null,
      "overflow_x": null,
      "overflow_y": null,
      "padding": null,
      "right": null,
      "top": null,
      "visibility": null,
      "width": null
     }
    },
    "9f6c419aeb804ac082ded95f5dbb0bec": {
     "model_module": "@jupyter-widgets/base",
     "model_module_version": "1.2.0",
     "model_name": "LayoutModel",
     "state": {
      "_model_module": "@jupyter-widgets/base",
      "_model_module_version": "1.2.0",
      "_model_name": "LayoutModel",
      "_view_count": null,
      "_view_module": "@jupyter-widgets/base",
      "_view_module_version": "1.2.0",
      "_view_name": "LayoutView",
      "align_content": null,
      "align_items": null,
      "align_self": null,
      "border": null,
      "bottom": null,
      "display": null,
      "flex": null,
      "flex_flow": null,
      "grid_area": null,
      "grid_auto_columns": null,
      "grid_auto_flow": null,
      "grid_auto_rows": null,
      "grid_column": null,
      "grid_gap": null,
      "grid_row": null,
      "grid_template_areas": null,
      "grid_template_columns": null,
      "grid_template_rows": null,
      "height": null,
      "justify_content": null,
      "justify_items": null,
      "left": null,
      "margin": null,
      "max_height": null,
      "max_width": null,
      "min_height": null,
      "min_width": null,
      "object_fit": null,
      "object_position": null,
      "order": null,
      "overflow": null,
      "overflow_x": null,
      "overflow_y": null,
      "padding": null,
      "right": null,
      "top": null,
      "visibility": null,
      "width": null
     }
    },
    "aa25a3933f90493ea7eac8223b151549": {
     "model_module": "@jupyter-widgets/base",
     "model_module_version": "1.2.0",
     "model_name": "LayoutModel",
     "state": {
      "_model_module": "@jupyter-widgets/base",
      "_model_module_version": "1.2.0",
      "_model_name": "LayoutModel",
      "_view_count": null,
      "_view_module": "@jupyter-widgets/base",
      "_view_module_version": "1.2.0",
      "_view_name": "LayoutView",
      "align_content": null,
      "align_items": null,
      "align_self": null,
      "border": null,
      "bottom": null,
      "display": null,
      "flex": null,
      "flex_flow": null,
      "grid_area": null,
      "grid_auto_columns": null,
      "grid_auto_flow": null,
      "grid_auto_rows": null,
      "grid_column": null,
      "grid_gap": null,
      "grid_row": null,
      "grid_template_areas": null,
      "grid_template_columns": null,
      "grid_template_rows": null,
      "height": null,
      "justify_content": null,
      "justify_items": null,
      "left": null,
      "margin": null,
      "max_height": null,
      "max_width": null,
      "min_height": null,
      "min_width": null,
      "object_fit": null,
      "object_position": null,
      "order": null,
      "overflow": null,
      "overflow_x": null,
      "overflow_y": null,
      "padding": null,
      "right": null,
      "top": null,
      "visibility": null,
      "width": null
     }
    },
    "ae73ecb1d8ca4335b8e102a53ae91126": {
     "model_module": "@jupyter-widgets/controls",
     "model_module_version": "1.5.0",
     "model_name": "VBoxModel",
     "state": {
      "_dom_classes": [],
      "_model_module": "@jupyter-widgets/controls",
      "_model_module_version": "1.5.0",
      "_model_name": "VBoxModel",
      "_view_count": null,
      "_view_module": "@jupyter-widgets/controls",
      "_view_module_version": "1.5.0",
      "_view_name": "VBoxView",
      "box_style": "",
      "children": [
       "IPY_MODEL_b45ea659930f429b83be9cda140fefec",
       "IPY_MODEL_3e19ce8596a44f3489dc1d571a427f87"
      ],
      "layout": "IPY_MODEL_286ab442f36c4f25a4d8678ee37b3511"
     }
    },
    "b030b754222345bc94e5cc599e0945ba": {
     "model_module": "@jupyter-widgets/base",
     "model_module_version": "1.2.0",
     "model_name": "LayoutModel",
     "state": {
      "_model_module": "@jupyter-widgets/base",
      "_model_module_version": "1.2.0",
      "_model_name": "LayoutModel",
      "_view_count": null,
      "_view_module": "@jupyter-widgets/base",
      "_view_module_version": "1.2.0",
      "_view_name": "LayoutView",
      "align_content": null,
      "align_items": null,
      "align_self": null,
      "border": null,
      "bottom": null,
      "display": null,
      "flex": null,
      "flex_flow": null,
      "grid_area": null,
      "grid_auto_columns": null,
      "grid_auto_flow": null,
      "grid_auto_rows": null,
      "grid_column": null,
      "grid_gap": null,
      "grid_row": null,
      "grid_template_areas": null,
      "grid_template_columns": null,
      "grid_template_rows": null,
      "height": null,
      "justify_content": null,
      "justify_items": null,
      "left": null,
      "margin": null,
      "max_height": null,
      "max_width": null,
      "min_height": null,
      "min_width": null,
      "object_fit": null,
      "object_position": null,
      "order": null,
      "overflow": null,
      "overflow_x": null,
      "overflow_y": null,
      "padding": null,
      "right": null,
      "top": null,
      "visibility": null,
      "width": null
     }
    },
    "b1ce103b69e948b0a21c06245727d630": {
     "model_module": "@jupyter-widgets/controls",
     "model_module_version": "1.5.0",
     "model_name": "DescriptionStyleModel",
     "state": {
      "_model_module": "@jupyter-widgets/controls",
      "_model_module_version": "1.5.0",
      "_model_name": "DescriptionStyleModel",
      "_view_count": null,
      "_view_module": "@jupyter-widgets/base",
      "_view_module_version": "1.2.0",
      "_view_name": "StyleView",
      "description_width": ""
     }
    },
    "b45ea659930f429b83be9cda140fefec": {
     "model_module": "@jupyter-widgets/controls",
     "model_module_version": "1.5.0",
     "model_name": "HBoxModel",
     "state": {
      "_dom_classes": [],
      "_model_module": "@jupyter-widgets/controls",
      "_model_module_version": "1.5.0",
      "_model_name": "HBoxModel",
      "_view_count": null,
      "_view_module": "@jupyter-widgets/controls",
      "_view_module_version": "1.5.0",
      "_view_name": "HBoxView",
      "box_style": "",
      "children": [
       "IPY_MODEL_1efaa136692041d88f0419f0ff79d439",
       "IPY_MODEL_70b42b1389ab4f1b804517ef9a68d077"
      ],
      "layout": "IPY_MODEL_995eb26444ed4a4a81846459cb29fe23"
     }
    },
    "bbd09de1ccbf49728eacd61bbcfdbf98": {
     "model_module": "@jupyter-widgets/base",
     "model_module_version": "1.2.0",
     "model_name": "LayoutModel",
     "state": {
      "_model_module": "@jupyter-widgets/base",
      "_model_module_version": "1.2.0",
      "_model_name": "LayoutModel",
      "_view_count": null,
      "_view_module": "@jupyter-widgets/base",
      "_view_module_version": "1.2.0",
      "_view_name": "LayoutView",
      "align_content": null,
      "align_items": null,
      "align_self": null,
      "border": null,
      "bottom": null,
      "display": null,
      "flex": null,
      "flex_flow": null,
      "grid_area": null,
      "grid_auto_columns": null,
      "grid_auto_flow": null,
      "grid_auto_rows": null,
      "grid_column": null,
      "grid_gap": null,
      "grid_row": null,
      "grid_template_areas": null,
      "grid_template_columns": null,
      "grid_template_rows": null,
      "height": null,
      "justify_content": null,
      "justify_items": null,
      "left": null,
      "margin": null,
      "max_height": null,
      "max_width": null,
      "min_height": null,
      "min_width": null,
      "object_fit": null,
      "object_position": null,
      "order": null,
      "overflow": null,
      "overflow_x": null,
      "overflow_y": null,
      "padding": null,
      "right": null,
      "top": null,
      "visibility": null,
      "width": null
     }
    },
    "bc21d9e5466142d7aa6bc6c5be09fbb1": {
     "model_module": "@jupyter-widgets/base",
     "model_module_version": "1.2.0",
     "model_name": "LayoutModel",
     "state": {
      "_model_module": "@jupyter-widgets/base",
      "_model_module_version": "1.2.0",
      "_model_name": "LayoutModel",
      "_view_count": null,
      "_view_module": "@jupyter-widgets/base",
      "_view_module_version": "1.2.0",
      "_view_name": "LayoutView",
      "align_content": null,
      "align_items": null,
      "align_self": null,
      "border": null,
      "bottom": null,
      "display": null,
      "flex": null,
      "flex_flow": null,
      "grid_area": null,
      "grid_auto_columns": null,
      "grid_auto_flow": null,
      "grid_auto_rows": null,
      "grid_column": null,
      "grid_gap": null,
      "grid_row": null,
      "grid_template_areas": null,
      "grid_template_columns": null,
      "grid_template_rows": null,
      "height": null,
      "justify_content": null,
      "justify_items": null,
      "left": null,
      "margin": null,
      "max_height": null,
      "max_width": null,
      "min_height": null,
      "min_width": null,
      "object_fit": null,
      "object_position": null,
      "order": null,
      "overflow": null,
      "overflow_x": null,
      "overflow_y": null,
      "padding": null,
      "right": null,
      "top": null,
      "visibility": null,
      "width": null
     }
    },
    "c4f95b2395b044e48513760e981d3ec3": {
     "model_module": "@jupyter-widgets/controls",
     "model_module_version": "1.5.0",
     "model_name": "DescriptionStyleModel",
     "state": {
      "_model_module": "@jupyter-widgets/controls",
      "_model_module_version": "1.5.0",
      "_model_name": "DescriptionStyleModel",
      "_view_count": null,
      "_view_module": "@jupyter-widgets/base",
      "_view_module_version": "1.2.0",
      "_view_name": "StyleView",
      "description_width": ""
     }
    },
    "c9959998f6be4355b5b53f79504e34dc": {
     "model_module": "@jupyter-widgets/controls",
     "model_module_version": "1.5.0",
     "model_name": "IntProgressModel",
     "state": {
      "_dom_classes": [],
      "_model_module": "@jupyter-widgets/controls",
      "_model_module_version": "1.5.0",
      "_model_name": "IntProgressModel",
      "_view_count": null,
      "_view_module": "@jupyter-widgets/controls",
      "_view_module_version": "1.5.0",
      "_view_name": "ProgressView",
      "bar_style": "success",
      "description": "100.00%",
      "description_tooltip": null,
      "layout": "IPY_MODEL_078c3b1a3f764f759a521f52f3ba97ea",
      "max": 79117,
      "min": 0,
      "orientation": "horizontal",
      "style": "IPY_MODEL_7d53c822d3b749c486cfe45a5c3da274",
      "value": 79117
     }
    },
    "ccdc7dd9d6404a4a91bcbee9b3d4d4ac": {
     "model_module": "@jupyter-widgets/controls",
     "model_module_version": "1.5.0",
     "model_name": "ProgressStyleModel",
     "state": {
      "_model_module": "@jupyter-widgets/controls",
      "_model_module_version": "1.5.0",
      "_model_name": "ProgressStyleModel",
      "_view_count": null,
      "_view_module": "@jupyter-widgets/base",
      "_view_module_version": "1.2.0",
      "_view_name": "StyleView",
      "bar_color": null,
      "description_width": ""
     }
    },
    "d03150e8c34e43589c883b6b36ce153d": {
     "model_module": "@jupyter-widgets/base",
     "model_module_version": "1.2.0",
     "model_name": "LayoutModel",
     "state": {
      "_model_module": "@jupyter-widgets/base",
      "_model_module_version": "1.2.0",
      "_model_name": "LayoutModel",
      "_view_count": null,
      "_view_module": "@jupyter-widgets/base",
      "_view_module_version": "1.2.0",
      "_view_name": "LayoutView",
      "align_content": null,
      "align_items": null,
      "align_self": null,
      "border": null,
      "bottom": null,
      "display": null,
      "flex": null,
      "flex_flow": null,
      "grid_area": null,
      "grid_auto_columns": null,
      "grid_auto_flow": null,
      "grid_auto_rows": null,
      "grid_column": null,
      "grid_gap": null,
      "grid_row": null,
      "grid_template_areas": null,
      "grid_template_columns": null,
      "grid_template_rows": null,
      "height": null,
      "justify_content": null,
      "justify_items": null,
      "left": null,
      "margin": null,
      "max_height": null,
      "max_width": null,
      "min_height": null,
      "min_width": null,
      "object_fit": null,
      "object_position": null,
      "order": null,
      "overflow": null,
      "overflow_x": null,
      "overflow_y": null,
      "padding": null,
      "right": null,
      "top": null,
      "visibility": null,
      "width": null
     }
    },
    "d230977a9e5e4211bf566aecd6a4153a": {
     "model_module": "@jupyter-widgets/base",
     "model_module_version": "1.2.0",
     "model_name": "LayoutModel",
     "state": {
      "_model_module": "@jupyter-widgets/base",
      "_model_module_version": "1.2.0",
      "_model_name": "LayoutModel",
      "_view_count": null,
      "_view_module": "@jupyter-widgets/base",
      "_view_module_version": "1.2.0",
      "_view_name": "LayoutView",
      "align_content": null,
      "align_items": null,
      "align_self": null,
      "border": null,
      "bottom": null,
      "display": null,
      "flex": null,
      "flex_flow": null,
      "grid_area": null,
      "grid_auto_columns": null,
      "grid_auto_flow": null,
      "grid_auto_rows": null,
      "grid_column": null,
      "grid_gap": null,
      "grid_row": null,
      "grid_template_areas": null,
      "grid_template_columns": null,
      "grid_template_rows": null,
      "height": null,
      "justify_content": null,
      "justify_items": null,
      "left": null,
      "margin": null,
      "max_height": null,
      "max_width": null,
      "min_height": null,
      "min_width": null,
      "object_fit": null,
      "object_position": null,
      "order": null,
      "overflow": null,
      "overflow_x": null,
      "overflow_y": null,
      "padding": null,
      "right": null,
      "top": null,
      "visibility": null,
      "width": null
     }
    },
    "d4454956bc94445ea48bbe0ba69df2cc": {
     "model_module": "@jupyter-widgets/controls",
     "model_module_version": "1.5.0",
     "model_name": "HBoxModel",
     "state": {
      "_dom_classes": [],
      "_model_module": "@jupyter-widgets/controls",
      "_model_module_version": "1.5.0",
      "_model_name": "HBoxModel",
      "_view_count": null,
      "_view_module": "@jupyter-widgets/controls",
      "_view_module_version": "1.5.0",
      "_view_name": "HBoxView",
      "box_style": "",
      "children": [
       "IPY_MODEL_5b4e10b2330947c6a72187a13c15e5f9",
       "IPY_MODEL_3fb1ce59b4734f41b0425be7f8f7f2a3",
       "IPY_MODEL_1902d80721fc402b87d518f14fea6eae"
      ],
      "layout": "IPY_MODEL_bc21d9e5466142d7aa6bc6c5be09fbb1"
     }
    },
    "dcfa6ddeeb8845d49ee353cb75c2dd26": {
     "model_module": "@jupyter-widgets/controls",
     "model_module_version": "1.5.0",
     "model_name": "HBoxModel",
     "state": {
      "_dom_classes": [],
      "_model_module": "@jupyter-widgets/controls",
      "_model_module_version": "1.5.0",
      "_model_name": "HBoxModel",
      "_view_count": null,
      "_view_module": "@jupyter-widgets/controls",
      "_view_module_version": "1.5.0",
      "_view_name": "HBoxView",
      "box_style": "",
      "children": [
       "IPY_MODEL_0ca214fce2c24f8cbcf68ed976ee5257",
       "IPY_MODEL_54513fd2e1f9498a8ca0610979bd01f5"
      ],
      "layout": "IPY_MODEL_9a9865842ced486b9d427ac495976d37"
     }
    },
    "e2ff2b88252a48e19dc0ebad446635eb": {
     "model_module": "@jupyter-widgets/base",
     "model_module_version": "1.2.0",
     "model_name": "LayoutModel",
     "state": {
      "_model_module": "@jupyter-widgets/base",
      "_model_module_version": "1.2.0",
      "_model_name": "LayoutModel",
      "_view_count": null,
      "_view_module": "@jupyter-widgets/base",
      "_view_module_version": "1.2.0",
      "_view_name": "LayoutView",
      "align_content": null,
      "align_items": null,
      "align_self": null,
      "border": null,
      "bottom": null,
      "display": null,
      "flex": null,
      "flex_flow": null,
      "grid_area": null,
      "grid_auto_columns": null,
      "grid_auto_flow": null,
      "grid_auto_rows": null,
      "grid_column": null,
      "grid_gap": null,
      "grid_row": null,
      "grid_template_areas": null,
      "grid_template_columns": null,
      "grid_template_rows": null,
      "height": null,
      "justify_content": null,
      "justify_items": null,
      "left": null,
      "margin": null,
      "max_height": null,
      "max_width": null,
      "min_height": null,
      "min_width": null,
      "object_fit": null,
      "object_position": null,
      "order": null,
      "overflow": null,
      "overflow_x": null,
      "overflow_y": null,
      "padding": null,
      "right": null,
      "top": null,
      "visibility": null,
      "width": null
     }
    },
    "e36608b19360488ca0e5d352293aaeb4": {
     "model_module": "@jupyter-widgets/controls",
     "model_module_version": "1.5.0",
     "model_name": "DescriptionStyleModel",
     "state": {
      "_model_module": "@jupyter-widgets/controls",
      "_model_module_version": "1.5.0",
      "_model_name": "DescriptionStyleModel",
      "_view_count": null,
      "_view_module": "@jupyter-widgets/base",
      "_view_module_version": "1.2.0",
      "_view_name": "StyleView",
      "description_width": ""
     }
    },
    "f9589ca258e44920bc5793f4b05c83d8": {
     "model_module": "@jupyter-widgets/base",
     "model_module_version": "1.2.0",
     "model_name": "LayoutModel",
     "state": {
      "_model_module": "@jupyter-widgets/base",
      "_model_module_version": "1.2.0",
      "_model_name": "LayoutModel",
      "_view_count": null,
      "_view_module": "@jupyter-widgets/base",
      "_view_module_version": "1.2.0",
      "_view_name": "LayoutView",
      "align_content": null,
      "align_items": null,
      "align_self": null,
      "border": null,
      "bottom": null,
      "display": null,
      "flex": null,
      "flex_flow": null,
      "grid_area": null,
      "grid_auto_columns": null,
      "grid_auto_flow": null,
      "grid_auto_rows": null,
      "grid_column": null,
      "grid_gap": null,
      "grid_row": null,
      "grid_template_areas": null,
      "grid_template_columns": null,
      "grid_template_rows": null,
      "height": null,
      "justify_content": null,
      "justify_items": null,
      "left": null,
      "margin": null,
      "max_height": null,
      "max_width": null,
      "min_height": null,
      "min_width": null,
      "object_fit": null,
      "object_position": null,
      "order": null,
      "overflow": null,
      "overflow_x": null,
      "overflow_y": null,
      "padding": null,
      "right": null,
      "top": null,
      "visibility": null,
      "width": null
     }
    }
   }
  }
 },
 "nbformat": 4,
 "nbformat_minor": 4
}
